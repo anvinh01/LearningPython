{
 "cells": [
  {
   "cell_type": "markdown",
   "source": [
    "# Basics\r\n",
    "<ul>\r\n",
    "    <li><h2>Installation / Setup</h2></li>\r\n",
    "    <li><h2>First Programm / Notebook</h2></li>\r\n",
    "    <li><h2>Operators</h2></li>\r\n",
    "    <li><h2>Data types</h2></li>\r\n",
    "    <li><h2>Accessing list elements</h2></li>\r\n",
    "    <li><h2>Accessing dictionary elements</h2></li>\r\n",
    "    <li><h2>Built-in functions</h2></li>\r\n",
    "</ul>"
   ],
   "metadata": {}
  },
  {
   "cell_type": "markdown",
   "source": [
    "# installation and Setup\r\n",
    "<ol>\r\n",
    "    <li>\r\n",
    "        <h2>Install Python</h2>\r\n",
    "        First Install [Pyhton](https://www.python.org/downloads/) for your Operating System. This guide is mainly written for Windows.\r\n",
    "    </li>\r\n",
    "    <li>\r\n",
    "        <h2>Install IDE</h2>\r\n",
    "        IDE stands for \"intergrated development enviroment\". An IDE is very helpful for programming, as it provides you with tools for faster development, such as autocompletion.<br>  \r\n",
    "        Personally i recommend [Visual Studio Code](https://code.visualstudio.com/), but you may choose whatever Python IDE you like. Other IDE's:\r\n",
    "        <ul>\r\n",
    "            <li>PyCharm</li>\r\n",
    "            <li>Vim</li>\r\n",
    "            <li>Sublime</li>\r\n",
    "        </ul>\r\n",
    "    </li>\r\n",
    "    <li>\r\n",
    "        <h2>Visual Studio Code Extensions</h2>\r\n",
    "        This step is not necessary, but it would be of great help. As mentioned above, having an IDE provides you with certain \"Tools\". These Tools can be installed on the left sidebar => Extensions.\r\n",
    "        I recommend installing following extensions.\r\n",
    "        <ul>\r\n",
    "            <li>Jupyter</li>\r\n",
    "            <li>Pylance</li>\r\n",
    "            <li>Python</li>\r\n",
    "            <li>Python for VSCode</li>\r\n",
    "        </ul>\r\n",
    "    </li>\r\n",
    "    <li>\r\n",
    "        <h2>Installing Modules (setup pip in PATH)</h2>\r\n",
    "        Open up the Command prompt. Press \"Windows\" and type in cmd. Type in \"pip --version\".<br>\r\n",
    "        If \"pip\" is not found then please follow the next instructions. Else if the version is shown you can skip to \"Installing Modules (pip install)\".<br>\r\n",
    "        Pip is often used to install modules and packages. We have to add the directory of Python and pip to our PATH. If you can work better with a visual explanation, then there is a video [here](https://www.youtube.com/watch?v=dj5oOPaeIqI).\r\n",
    "        Basically you have to:\r\n",
    "        <ul>\r\n",
    "            <li>\r\n",
    "            <h3>Navigate to the directory</h3>\r\n",
    "                <ul>\r\n",
    "                    <li>navigate to you Python directory and then to \"Scripts\"</li>\r\n",
    "                    <li>If you can't find your Python directory, press \"Windows\" and search for \"python 3.x (64-bit)\" and press on \"Open file location\"</li>\r\n",
    "                    <li>Rightclick on that Python file and press on \"Open file location\" again</li>\r\n",
    "                    <li>You should now be in the Python directory. Copy that directory path.</li>\r\n",
    "                    <li>leave the directory open</li>\r\n",
    "                </ul>\r\n",
    "            </li>\r\n",
    "            <li>\r\n",
    "            <h3>Add the directory path to the System variables</h3>\r\n",
    "                <ul>\r\n",
    "                    <li>press \"Windows\" and type in \"Systemvariables\" => Open it</li>\r\n",
    "                    <li>press on \"Enviroment Variables\" on the bottom right</li>\r\n",
    "                    <li>Under \"User varables for ...\" select \"path\" and press on \"Edit\"</li>\r\n",
    "                    <li>Press \"New\" and paste in the directory path you copied.</li>\r\n",
    "                    <li>Press \"OK\"</li>\r\n",
    "                    <li>Under \"System Variables\" select \"path\" again and press \"Edit\"</li>\r\n",
    "                    <li>Press \"New\" and paste in the path again</li>\r\n",
    "                </ul>\r\n",
    "            </li>\r\n",
    "            <li>\r\n",
    "                <h3>repeat with pip</h3>\r\n",
    "                <ul>\r\n",
    "                    <li>in the Python directory navigate into \"/Scripts\"</li>\r\n",
    "                    <li>Copy that Path and repeat the process above in \"Systemvariables\"</li>\r\n",
    "                </ul>\r\n",
    "            </li>\r\n",
    "        </ul>\r\n",
    "        To test if it worked, we open the Command Prompt (cmd) again and type in \"pip --version\". It should display the version now, if not then feel free to conatact me\r\n",
    "    </li>\r\n",
    "    <li>\r\n",
    "        <h2>Installing Modules (pip install)</h2>\r\n",
    "        Now that our pip is working we can install some modules.\r\n",
    "        Type into the Command Promt the following instructions:\r\n",
    "        <ul>\r\n",
    "            <li>pip install numpy</li>\r\n",
    "            <li>python -m pip install -U matplotlib</li>\r\n",
    "            <li>pip install pandas</li>\r\n",
    "            <li>pip install jupyterlab</li>\r\n",
    "        </ul>\r\n",
    "    </li>\r\n",
    "</o'l>\r\n",
    "This should conclude the installation and the setup for the future."
   ],
   "metadata": {}
  },
  {
   "cell_type": "markdown",
   "source": [
    "<h1>First Programm / Notebook</h1>\r\n",
    "Let's create our first python programm. First create a Folder, which should contain our files. Now open the folder in Visual Studio Code (File => Open Folder). Create a new File and save it as a Python (.py) file. Type in following:"
   ],
   "metadata": {}
  },
  {
   "cell_type": "code",
   "execution_count": 1,
   "source": [
    "print(\"Hello World!\")"
   ],
   "outputs": [
    {
     "output_type": "stream",
     "name": "stdout",
     "text": [
      "Hello World!\n"
     ]
    }
   ],
   "metadata": {}
  },
  {
   "cell_type": "markdown",
   "source": [
    "And press on the \"play\" button on the top right.\r\n",
    "If it's working, then you have successfully created your first programm.<br>\r\n",
    "<h2>Notebook</h2>\r\n",
    "As a person who mostly works with large data, we will use a Notebook instead of a typical python file. Therfore create a new file and save it as Jupyter Notebook (.ipynb). A Notebook has the big advantage, that we can run each line individually and document the whole process.<br>\r\n",
    "Write in your code cell the following code and press \"shift\" + \"Enter\"."
   ],
   "metadata": {}
  },
  {
   "cell_type": "code",
   "execution_count": 2,
   "source": [
    "print(\"Hello World!\")"
   ],
   "outputs": [
    {
     "output_type": "stream",
     "name": "stdout",
     "text": [
      "Hello World!\n"
     ]
    }
   ],
   "metadata": {}
  },
  {
   "cell_type": "markdown",
   "source": [
    "if everything works accordingly we can start writing into our Notebook. The first subject will be Operators."
   ],
   "metadata": {}
  },
  {
   "cell_type": "markdown",
   "source": [
    "<h1>Operators</h1>\r\n",
    "As there is no real use for only operators. This section will only give us a brief glimps of the avaible operations. There are 4 types of Operators:\r\n",
    "<ul>\r\n",
    "    <li>Arithmetic</li>\r\n",
    "    <li>Relational</li>\r\n",
    "    <li>Assignment</li>\r\n",
    "    <li>Logical</li>\r\n",
    "</ul>\r\n"
   ],
   "metadata": {}
  },
  {
   "cell_type": "markdown",
   "source": [
    "<h2>Arithmetic</h2>\r\n",
    "Arithmetic operations are mainly used to calculate:\r\n",
    "<ul>\r\n",
    "    <li>+ => add</li>\r\n",
    "    <li>- => subtract</li>\r\n",
    "    <li>* => multiply</li>\r\n",
    "    <li>/ => divide</li>\r\n",
    "    <li>// => divide and round</li>\r\n",
    "    <li>** => the power of</li>\r\n",
    "    <li>% => modulo (calculate the rest of division)</li>\r\n",
    "</ul>"
   ],
   "metadata": {}
  },
  {
   "cell_type": "code",
   "execution_count": 6,
   "source": [
    "# This is a comment. it starts with \"#\"\r\n",
    "a = 15\r\n",
    "b = 7\r\n",
    "\r\n",
    "print(f\"a = {a}\")\r\n",
    "print(f\"b = {b}\")\r\n",
    "\r\n",
    "# using arithmetic\r\n",
    "add = a+b\r\n",
    "sub = a-b\r\n",
    "mul = a*b\r\n",
    "div = a/b\r\n",
    "whole_div = a//b\r\n",
    "power = a**b\r\n",
    "modulo = a%b\r\n",
    "\r\n",
    "# print out formated\r\n",
    "print(f\"add: {a} + {b} = {add}\")\r\n",
    "print(f\"sub: {a} - {b} = {sub}\")\r\n",
    "print(f\"mul: {a} * {b} = {mul}\")\r\n",
    "print(f\"div: {a} / {b} = {div}\")\r\n",
    "\r\n",
    "print(f\"whole_div: {a} + {b} = {whole_div}\")\r\n",
    "print(f\"power: {a} ** {b} = {power}\")\r\n",
    "print(f\"modulo: {a} // {b} = {whole_div} Rest {modulo}\")\r\n"
   ],
   "outputs": [
    {
     "output_type": "stream",
     "name": "stdout",
     "text": [
      "a = 15\n",
      "b = 7\n",
      "add: 15 + 7 = 22\n",
      "sub: 15 - 7 = 8\n",
      "mul: 15 * 7 = 105\n",
      "div: 15 / 7 = 2.142857142857143\n",
      "whole_div: 15 + 7 = 2\n",
      "power: 15 ** 7 = 170859375\n",
      "modulo: 15 // 7 = 2 Rest 1\n"
     ]
    }
   ],
   "metadata": {}
  },
  {
   "cell_type": "markdown",
   "source": [
    "\r\n",
    "<h2>Relation</h2>\r\n",
    "A relation compares two arguments and returns a value of True or False.<br>\r\n",
    "As an example (a == b).\r\n",
    "<ul>\r\n",
    "    <li>== : is equal to</li>\r\n",
    "    <li>!= : is not equal to</li>\r\n",
    "    <li><  : is smaller than</li>\r\n",
    "    <li><= : is smaller or equal to</li>\r\n",
    "    <li>>  : is bigger than</li>\r\n",
    "    <li>>= : is bigger ot equal to</li>\r\n",
    "    <li>is : is</li>\r\n",
    "</ul>"
   ],
   "metadata": {}
  },
  {
   "cell_type": "code",
   "execution_count": 9,
   "source": [
    "# We will use the variables a and b from above and a new one c\r\n",
    "c = 7\r\n",
    "\r\n",
    "equal = a == b\r\n",
    "not_equal = a != b\r\n",
    "\r\n",
    "smaller = c < b\r\n",
    "smaller_equal = c <= b\r\n",
    "\r\n",
    "bigger = a > b\r\n",
    "bigger_equal = a >= b\r\n",
    "\r\n",
    "print(f\"{a} is equal to {b} = {equal}\")\r\n",
    "print(f\"{a} is not equal to {b} = {not_equal}\")\r\n",
    "\r\n",
    "print(f\"{c} is smaller than {b} = {smaller}\")\r\n",
    "print(f\"{c} is smaller or equal to {b} = {smaller_equal}\")\r\n",
    "\r\n",
    "print(f\"{a} is bigger than {b} = {bigger}\")\r\n",
    "print(f\"{a} is bigger or equal to {b} = {bigger_equal}\")"
   ],
   "outputs": [
    {
     "output_type": "stream",
     "name": "stdout",
     "text": [
      "15 is equal to 7 = False\n",
      "15 is not equal to 7 = True\n",
      "7 is smaller than 7 = False\n",
      "7 is smaller or equal to 7 = True\n",
      "15 is bigger than 7 = True\n",
      "15 is bigger or equal to 7 = True\n"
     ]
    }
   ],
   "metadata": {}
  },
  {
   "cell_type": "markdown",
   "source": [
    "<h2>Assignment</h2>\r\n",
    "As the name suggest we can assign certain values to a variable.\r\n",
    "<ul>\r\n",
    "    <li>=  : set equal to</li>\r\n",
    "    <li>+= : add a value to the var</li>\r\n",
    "    <li>-= : subtract a value to the var</li>\r\n",
    "    <li>/= : divide a value to the var</li>\r\n",
    "    <li>*= : multiplay ther value</li>\r\n",
    "</ul>"
   ],
   "metadata": {}
  },
  {
   "cell_type": "code",
   "execution_count": 14,
   "source": [
    "# first we assign a variable\r\n",
    "a = 1\r\n",
    "print(f\"a has the value {a} now\")\r\n",
    "\r\n",
    "# with += we can increase the value of a\r\n",
    "a += 5\r\n",
    "print(f\"a has the value {a} after: a += 5\")\r\n",
    "\r\n",
    "# with -= we decrease the value\r\n",
    "a -= 3\r\n",
    "print(f\"a has the value {a} after: a -=3\")\r\n",
    "\r\n",
    "# with /= we divide the val\r\n",
    "a /= 3\r\n",
    "print(f\"a has the value {a} after: a /= 2\")\r\n",
    "\r\n",
    "# with *0 we multiply the value\r\n",
    "a *= 13\r\n",
    "print(f\"a has the value {a} after: a *= 13\")"
   ],
   "outputs": [
    {
     "output_type": "stream",
     "name": "stdout",
     "text": [
      "a has the value 1 now\n",
      "a has the value 6 after: a += 5\n",
      "a has the value 3 after: a -=3\n",
      "a has the value 1.0 after: a /= 2\n",
      "a has the value 13.0 after: a *= 13\n"
     ]
    }
   ],
   "metadata": {}
  },
  {
   "cell_type": "markdown",
   "source": [],
   "metadata": {}
  },
  {
   "cell_type": "markdown",
   "source": [
    "<h2>Logical</h2>\r\n",
    "A logical operator connects 2 True or False Statements. There are only 3 operators\r\n",
    "<ul>\r\n",
    "    <li>and</li>\r\n",
    "    <li>or</li>\r\n",
    "    <li>not</li>\r\n",
    "<ul>\r\n"
   ],
   "metadata": {}
  },
  {
   "cell_type": "code",
   "execution_count": 17,
   "source": [
    "statement_1 = True\r\n",
    "statement_2 = False\r\n",
    "\r\n",
    "and_operator = statement_1 and statement_2\r\n",
    "or_operator = statement_1 or statement_2\r\n",
    "not_operator = not statement_1\r\n",
    "\r\n",
    "print(f\"{statement_1} and {statement_2} = {and_operator}\")\r\n",
    "print(f\"{statement_1} or {statement_2} = {or_operator}\")\r\n",
    "print(f\"not {statement_1} = {not_operator}\")"
   ],
   "outputs": [
    {
     "output_type": "stream",
     "name": "stdout",
     "text": [
      "True and False = False\n",
      "True or False = True\n",
      "not True = False\n"
     ]
    }
   ],
   "metadata": {}
  },
  {
   "cell_type": "markdown",
   "source": [
    "<h1>Data types</h1>\r\n",
    "There many Data types in python. Understanding these Data types is very important, since you will be working with Data types which are very similar to these.<br>\r\n",
    "First we have standard data types, such as:\r\n",
    "<ul>\r\n",
    "    <li>intergers (whole numbers)</li>\r\n",
    "    <li>float (floating point numbers)</li>\r\n",
    "    <li>char (a single letter)</li>\r\n",
    "    <li>Boolean (True or False)</li>\r\n",
    "</ul>\r\n",
    "\r\n",
    "The more complex data types are Lists and strings.\r\n",
    "A list can contain more than just one element."
   ],
   "metadata": {}
  },
  {
   "cell_type": "code",
   "execution_count": null,
   "source": [],
   "outputs": [],
   "metadata": {}
  }
 ],
 "metadata": {
  "orig_nbformat": 4,
  "language_info": {
   "name": "python",
   "version": "3.8.7",
   "mimetype": "text/x-python",
   "codemirror_mode": {
    "name": "ipython",
    "version": 3
   },
   "pygments_lexer": "ipython3",
   "nbconvert_exporter": "python",
   "file_extension": ".py"
  },
  "kernelspec": {
   "name": "python3",
   "display_name": "Python 3.8.7 64-bit"
  },
  "interpreter": {
   "hash": "bd216bc2c0a4d891b93e4ba5dba2c1071f5c01076a47a39818a305595ac383b1"
  }
 },
 "nbformat": 4,
 "nbformat_minor": 2
}