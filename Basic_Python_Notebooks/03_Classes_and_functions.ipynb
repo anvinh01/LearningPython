{
 "cells": [
  {
   "cell_type": "markdown",
   "metadata": {},
   "source": [
    "<h1>Table of contents</h1>\n",
    "<ul>\n",
    "    <li><a href=\"#overview\">\n",
    "    <li><a href=\"#functions\" style=\"color: rgb(200, 200, 0);\"><h2>Functions</h2></a>\n",
    "        <ul>\n",
    "            <li><a href=\"#simple_function\" style=\"color: rgb(200, 200, 0);\"><h3>simple function</h3></a></li>\n",
    "            <li><a href=\"#arguments\" style=\"color: rgb(200, 200, 0);\"><h3>Arguments</h3></a></li>\n",
    "            <li><a href=\"#lambda_functions\" style=\"color: rgb(200, 200, 0);\"><h3>lambda functions</h3></a></li>\n",
    "        </ul>\n",
    "    </li>\n",
    "    <li><a href=\"#classes\" style=\"color: rgb(0, 200, 200);\"><h2>Classes</h2></a>\n",
    "        <ul>\n",
    "            <li><a href=\"#while_loop\" style=\"color: rgb(0, 200, 200);\"><h3>__init__(self):</h3></a></li>\n",
    "            <li><a href=\"#for_loop_list\" style=\"color: rgb(0, 200, 200);\"><h3>self</h3></a></li>\n",
    "            <li><a href=\"#for_loop_range\" style=\"color: rgb(0, 200, 200);\"><h3>under classes</h3></a></li>\n",
    "        </ul>\n",
    "    </li>\n",
    "    <li>\n",
    "        <li><a href=\"#exercise\" style=\"color: rgb(0, 200, 130);\"><h2>Exercise</h2></li>\n",
    "        <ul>\n",
    "            <li><a href=\"#e_1\" style=\"color: rgb(0, 200, 130);\"><h3>E.1: Numbers in 3-step</h3></a></li>\n",
    "            <li><a href=\"#e_2\" style=\"color: rgb(0, 200, 130);\"><h3>E.2: Count number of C</h3></a></li>\n",
    "        </ul>\n",
    "    </li>\n",
    "</ul>"
   ]
  },
  {
   "cell_type": "markdown",
   "metadata": {},
   "source": [
    "<a id=\"overwiew\"></a>\n",
    "<h1>Note</h1>\n"
   ]
  },
  {
   "cell_type": "markdown",
   "metadata": {},
   "source": [
    "<a id=\"functions\"></a>\n",
    "<h1 style=\"color: rgb(200, 200, 0);\">Functions</h1>\n",
    "A function can be called repeatedly with different inputs. Meaning we can use the same function on different datasets. We can also structure or code much easier, for other people to read.\n",
    "<a id=\"simple_function\"></a>\n",
    "<h2 style=\"color: rgb(200, 200, 0);\">Simple function</h2>\n",
    "A function starts with it's definition and the name. After the name there can be multiple arguments. A function will return a value or some kind in the most cases.\n",
    "<br>Let's write a function f(x) which will take x as an argument and calculate: $f(x) = x^{2} + 3*x + 10$"
   ]
  },
  {
   "cell_type": "code",
   "execution_count": 1,
   "metadata": {},
   "outputs": [],
   "source": [
    "def f(x):\n",
    "    # there can \n",
    "    return x**2 + 3*x + 10"
   ]
  },
  {
   "cell_type": "markdown",
   "metadata": {},
   "source": [
    "We can now use this function to calculate different values. $f(8)$ and $f(4)$"
   ]
  },
  {
   "cell_type": "code",
   "execution_count": 2,
   "metadata": {},
   "outputs": [
    {
     "name": "stdout",
     "output_type": "stream",
     "text": [
      "a = 98, b = 38\n"
     ]
    }
   ],
   "source": [
    "a = f(8)\n",
    "b = f(4)\n",
    "print(f\"a = {a}, b = {b}\")"
   ]
  },
  {
   "cell_type": "markdown",
   "metadata": {},
   "source": [
    "<a id=\"arguments\"></a>\n",
    "<h2 style=\"color: rgb(200, 200, 0);\">Arguments</h2>\n",
    "\n",
    "A function can have multiple arguments (inputs). We can define a function which calculates the sum of two functions and print out if the sum is even or odd.\n",
    "This function has nothing to return. Instead it the function will just print the answer out."
   ]
  },
  {
   "cell_type": "code",
   "execution_count": 3,
   "metadata": {},
   "outputs": [],
   "source": [
    "def is_sum_even(x, y):\n",
    "    z = x + y\n",
    "    if z%2 == 0:            # check if the\n",
    "        print(f\"the sum of {x} and {y} is equal to {z} and therefore even\")\n",
    "    else:\n",
    "        print(f\"the sum of {x} and {y} is equal to {z} and therefore not even\")\n"
   ]
  },
  {
   "cell_type": "markdown",
   "metadata": {},
   "source": [
    "we can now use the function, with the <code>a</code> and <code>b</code> from above: "
   ]
  },
  {
   "cell_type": "code",
   "execution_count": 4,
   "metadata": {},
   "outputs": [
    {
     "name": "stdout",
     "output_type": "stream",
     "text": [
      "the sum of 98 and 38 is equal to 136 and therefore even\n"
     ]
    }
   ],
   "source": [
    "is_sum_even(a, b)"
   ]
  },
  {
   "cell_type": "markdown",
   "metadata": {},
   "source": [
    "Note that the arguments (inputs) can be of any datatypes, which means it can be a list a dictionarys or any other kind of datatypes. Let's implement a function which merges two arrays and calculate the sum. The sum will be returned.\n"
   ]
  },
  {
   "cell_type": "code",
   "execution_count": 1,
   "metadata": {},
   "outputs": [],
   "source": [
    "def sum_of_two_array(array_1, array_2):\n",
    "    # function will merge two arrays and calculate the sum\n",
    "    merged_array = array_1 + array_2        # merge two array\n",
    "    sum_array = sum(merged_array)           # calculate the sum\n",
    "    return sum_array                        # return the sum"
   ]
  },
  {
   "cell_type": "markdown",
   "metadata": {},
   "source": [
    "We can now use the function, under the condition, that our arguments are lists.:\n"
   ]
  },
  {
   "cell_type": "code",
   "execution_count": 3,
   "metadata": {},
   "outputs": [
    {
     "name": "stdout",
     "output_type": "stream",
     "text": [
      "m1: [0, 1, 2, 3]\n",
      "m2: [19, 18, 17]\n",
      "sum is: 60\n"
     ]
    }
   ],
   "source": [
    "m1 = [0, 1, 2, 3]\n",
    "m2 = [19, 18, 17]\n",
    "\n",
    "# use the function and give the value to the variable sum_m\n",
    "sum_m = sum_of_two_array(m1, m2)\n",
    "print(f\"m1: {m1}\\nm2: {m2}\\nsum is: {60}\")"
   ]
  },
  {
   "cell_type": "markdown",
   "metadata": {},
   "source": [
    "<a id=\"lambda_functions\"></a>\n",
    "<h2 style=\"color: rgb(200, 200, 0);\">Lambda functions</h2>"
   ]
  },
  {
   "cell_type": "markdown",
   "metadata": {},
   "source": [
    "There is another way to define a function in one line. It is mostly used for mathematical functions, but is not limited to only that.\n",
    "Those function are called <b>Lambda functions</b> and start with <code>lambda -function_name- -variable-: TODO</code>. An easy example would be to create a function which returns a polynomial of the a given variable x:"
   ]
  },
  {
   "cell_type": "code",
   "execution_count": 6,
   "metadata": {},
   "outputs": [
    {
     "name": "stdout",
     "output_type": "stream",
     "text": [
      "The output of our function with x = 10 => 132\n"
     ]
    }
   ],
   "source": [
    "# our lambda function \"func\" with the variable \"x\": TODO\n",
    "func = lambda x: x**2 + 3*x + 2\n",
    "print(f\"The output of our function with x = 10 => {func(10)}\")"
   ]
  },
  {
   "cell_type": "markdown",
   "metadata": {},
   "source": [
    "<a id=\"classes\"></a>\n",
    "<h1 style=\"color: rgb(0, 200, 200);\">Classes</h1>\n",
    "A Class is like a blueprint, which can be used to create many instances of an Object. \n",
    "<a id=\"init\"></a>\n",
    "<h2 style=\"color: rgb(0, 200, 200);\">Initialize</h2>\n"
   ]
  },
  {
   "cell_type": "code",
   "execution_count": null,
   "metadata": {},
   "outputs": [],
   "source": []
  }
 ],
 "metadata": {
  "interpreter": {
   "hash": "bd216bc2c0a4d891b93e4ba5dba2c1071f5c01076a47a39818a305595ac383b1"
  },
  "kernelspec": {
   "display_name": "Python 3.8.7 64-bit",
   "name": "python3"
  },
  "language_info": {
   "codemirror_mode": {
    "name": "ipython",
    "version": 3
   },
   "file_extension": ".py",
   "mimetype": "text/x-python",
   "name": "python",
   "nbconvert_exporter": "python",
   "pygments_lexer": "ipython3",
   "version": "3.8.7"
  },
  "orig_nbformat": 4
 },
 "nbformat": 4,
 "nbformat_minor": 2
}
