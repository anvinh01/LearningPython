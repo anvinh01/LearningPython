{
 "cells": [
  {
   "cell_type": "markdown",
   "source": [
    "# Basics\r\n",
    "<ol>\r\n",
    "    <li><a href=\"#install\"><h2>Installation / Setup</h2></a></li>\r\n",
    "    <li><a href=\"#first\"><h2>First Programm / Notebook</h2></a></li>\r\n",
    "    <li><a style=\"color: rgb(200, 200, 0);\"><h2>Operators</h2></a>\r\n",
    "        <ul>\r\n",
    "            <li><a style=\"color: rgb(200, 200, 0);\"><h3>Arithmetic</h3></a></li>\r\n",
    "            <li><a style=\"color: rgb(200, 200, 0);\"><h3>Relation</h3></a></li>\r\n",
    "            <li><a style=\"color: rgb(200, 200, 0);\"><h3>Assignment</h3></a></li>\r\n",
    "            <li><a style=\"color: rgb(200, 200, 0);\"><h3>Logical</h3></a></li>\r\n",
    "        </ul>\r\n",
    "    </li>\r\n",
    "    <li><a style=\"color: rgb(0, 200, 200);\"><h2>Data types</h2></a>\r\n",
    "        <ul>\r\n",
    "            <li><a style=\"color: rgb(0, 200, 200);\"><h3>Integer and float</h3></a></li>\r\n",
    "            <li><a style=\"color: rgb(0, 200, 200);\"><h3>Chars</h3></a></li>\r\n",
    "            <li><a style=\"color: rgb(0, 200, 130);\"><h3>List / Array</h3></a></li>\r\n",
    "            <li><a style=\"color: rgb(0, 200, 130);;\"><h3>Strings</h3></a></li>\r\n",
    "            <li><a style=\"color: rgb(200, 0, 200);\"><h3>Dictionary</h3></a></li>\r\n",
    "        </ul>\r\n",
    "    </li>\r\n",
    "</ol>"
   ],
   "metadata": {}
  },
  {
   "cell_type": "markdown",
   "source": [
    "<a id=\"install\"></a>\r\n",
    "# 1. installation and Setup\r\n",
    "<ol>\r\n",
    "    <li>\r\n",
    "        <h2>Install Python</h2>\r\n",
    "        First Install <a href=\"https://www.python.org/downloads/\">Python</a> for your Operating System. This guide is mainly written for Windows.\r\n",
    "    </li>\r\n",
    "    <li>\r\n",
    "            <h2>Install IDE</h2>\r\n",
    "            IDE stands for \"intergrated development enviroment\". An IDE is very helpful for programming, as it provides you with tools for faster development, such as autocompletion.<br>  \r\n",
    "            Personally i recommend <a href=\"https://code.visualstudio.com/\">Visual Studio Code</a>, but you may choose whatever Python IDE you like. Other IDE's:\r\n",
    "            <ul>\r\n",
    "                <li><a href=\"https://www.jetbrains.com/de-de/pycharm/\">PyCharm</a></li>\r\n",
    "                <li><a href=\"https://visualstudio.microsoft.com/de/downloads/\">Visual Studio</a</li>\r\n",
    "                <li><a href=\"https://www.sublimetext.com/\">Sublime Text</a></li>\r\n",
    "            </ul>\r\n",
    "        </li>\r\n",
    "    <li>\r\n",
    "            <h2>Visual Studio Code Extensions</h2>\r\n",
    "            This step is not necessary, but it would be of great help. As mentioned above, having an IDE provides you with certain \"Tools\". These Tools can be installed on the left sidebar => Extensions.\r\n",
    "            I recommend installing following extensions.\r\n",
    "            <ul>\r\n",
    "                <li>Jupyter</li>\r\n",
    "                <li>Pylance</li>\r\n",
    "                <li>Python</li>\r\n",
    "                <li>Python for VSCode</li>\r\n",
    "            </ul>\r\n",
    "        </li>\r\n",
    "    <li>\r\n",
    "        <h2>Installing Modules (setup pip in PATH)</h2>\r\n",
    "        Open up the Command prompt. Press \"Windows\" and type in cmd. Type in \"pip --version\".<br>\r\n",
    "        If \"pip\" is not found then please follow the next instructions. Else if the version is shown you can skip to \"Installing Modules (pip install)\".<br>\r\n",
    "        Pip is often used to install modules and packages. We have to add the directory of Python and pip to our PATH. If you can work better with a visual explanation, then there is a video <a href=\"https://www.youtube.com/watch?v=dj5oOPaeIqI\">here</a>.\r\n",
    "        Basically you have to:\r\n",
    "        <ul>\r\n",
    "            <li>\r\n",
    "            <h3>Navigate to the directory</h3>\r\n",
    "                <ul>\r\n",
    "                    <li>navigate to you Python directory and then to \"Scripts\"</li>\r\n",
    "                    <li>If you can't find your Python directory, press \"Windows\" and search for \"python 3.x (64-bit)\" and press on \"Open file location\"</li>\r\n",
    "                    <li>Rightclick on that Python file and press on \"Open file location\" again</li>\r\n",
    "                    <li>You should now be in the Python directory. Copy that directory path.</li>\r\n",
    "                    <li>leave the directory open</li>\r\n",
    "                </ul>\r\n",
    "            </li>\r\n",
    "            <li>\r\n",
    "            <h3>Add the directory path to the System variables</h3>\r\n",
    "                <ul>\r\n",
    "                    <li>press \"Windows\" and type in \"Systemvariables\" => Open it</li>\r\n",
    "                    <li>press on \"Enviroment Variables\" on the bottom right</li>\r\n",
    "                    <li>Under \"User varables for ...\" select \"path\" and press on \"Edit\"</li>\r\n",
    "                    <li>Press \"New\" and paste in the directory path you copied.</li>\r\n",
    "                    <li>Press \"OK\"</li>\r\n",
    "                    <li>Under \"System Variables\" select \"path\" again and press \"Edit\"</li>\r\n",
    "                    <li>Press \"New\" and paste in the path again</li>\r\n",
    "                </ul>\r\n",
    "            </li>\r\n",
    "            <li>\r\n",
    "                <h3>repeat with pip</h3>\r\n",
    "                <ul>\r\n",
    "                    <li>in the Python directory navigate into \"/Scripts\"</li>\r\n",
    "                    <li>Copy that Path and repeat the process above in \"Systemvariables\"</li>\r\n",
    "                </ul>\r\n",
    "            </li>\r\n",
    "        </ul>\r\n",
    "        To test if it worked, we open the Command Prompt (cmd) again and type in \"pip --version\". It should display the version now, if not then feel free to conatact me\r\n",
    "    </li>\r\n",
    "    <li>\r\n",
    "        <h2>Installing Modules (pip install)</h2>\r\n",
    "        Now that our pip is working we can install some modules.\r\n",
    "        Type into the Command Promt the following instructions:\r\n",
    "        <ul>\r\n",
    "            <li>pip install numpy</li>\r\n",
    "            <li>python -m pip install -U matplotlib</li>\r\n",
    "            <li>pip install pandas</li>\r\n",
    "            <li>pip install jupyterlab</li>\r\n",
    "        </ul>\r\n",
    "    </li>\r\n",
    "</ol>\r\n",
    "This should conclude the installation and the setup for the future."
   ],
   "metadata": {}
  },
  {
   "cell_type": "markdown",
   "source": [
    "<h1 id=\"first\">2. First Programm / Notebook</h1>\r\n",
    "Let's create our first python programm. First create a Folder, which should contain our files. Now open the folder in Visual Studio Code (File => Open Folder). Create a new File and save it as a Python (.py) file. Type in following:"
   ],
   "metadata": {}
  },
  {
   "cell_type": "code",
   "execution_count": 16,
   "source": [
    "print(\"Hello World!\")"
   ],
   "outputs": [
    {
     "output_type": "stream",
     "name": "stdout",
     "text": [
      "Hello World!\n"
     ]
    }
   ],
   "metadata": {}
  },
  {
   "cell_type": "markdown",
   "source": [
    "And press on the \"play\" button on the top right.\r\n",
    "If it's working, then you have successfully created your first programm.<br>\r\n",
    "<h2>Notebook</h2>\r\n",
    "As a person who mostly works with large data, we will use a Notebook instead of a typical python file. Therfore create a new file and save it as Jupyter Notebook (.ipynb). A Notebook has the big advantage, that we can run each line individually and document the whole process.<br>\r\n",
    "Write in your code cell the following code and press \"shift\" + \"Enter\"."
   ],
   "metadata": {}
  },
  {
   "cell_type": "code",
   "execution_count": 17,
   "source": [
    "print(\"Hello World!\")"
   ],
   "outputs": [
    {
     "output_type": "stream",
     "name": "stdout",
     "text": [
      "Hello World!\n"
     ]
    }
   ],
   "metadata": {}
  },
  {
   "cell_type": "markdown",
   "source": [
    "if everything works accordingly we can start writing into our Notebook. The first subject will be Operators."
   ],
   "metadata": {}
  },
  {
   "cell_type": "markdown",
   "source": [
    "<h1 style=\"color: rgb(200, 200, 0);\">3. Operators</h1>\r\n",
    "As there is no real use for only operators. This section will only give us a brief glimps of the avaible operations. There are 4 types of Operators:\r\n",
    "<ul>\r\n",
    "    <li>Arithmetic</li>\r\n",
    "    <li>Relational</li>\r\n",
    "    <li>Assignment</li>\r\n",
    "    <li>Logical</li>\r\n",
    "</ul>\r\n"
   ],
   "metadata": {}
  },
  {
   "cell_type": "markdown",
   "source": [
    "<h2 style=\"color: rgb(200, 200, 0);\">Arithmetic</h2>\r\n",
    "Arithmetic operations are mainly used to calculate:\r\n",
    "<ul>\r\n",
    "    <li>+ => add</li>\r\n",
    "    <li>- => subtract</li>\r\n",
    "    <li>* => multiply</li>\r\n",
    "    <li>/ => divide</li>\r\n",
    "    <li>// => divide and round</li>\r\n",
    "    <li>** => the power of</li>\r\n",
    "    <li>% => modulo (calculate the rest of division)</li>\r\n",
    "</ul>"
   ],
   "metadata": {}
  },
  {
   "cell_type": "code",
   "execution_count": 18,
   "source": [
    "# This is a comment. it starts with \"#\"\r\n",
    "a = 15\r\n",
    "b = 7\r\n",
    "\r\n",
    "print(f\"a = {a}\")\r\n",
    "print(f\"b = {b}\")\r\n",
    "\r\n",
    "# using arithmetic\r\n",
    "add = a+b\r\n",
    "sub = a-b\r\n",
    "mul = a*b\r\n",
    "div = a/b\r\n",
    "whole_div = a//b\r\n",
    "power = a**b\r\n",
    "modulo = a%b\r\n",
    "\r\n",
    "# print out formated\r\n",
    "print(f\"add: {a} + {b} = {add}\")\r\n",
    "print(f\"sub: {a} - {b} = {sub}\")\r\n",
    "print(f\"mul: {a} * {b} = {mul}\")\r\n",
    "print(f\"div: {a} / {b} = {div}\")\r\n",
    "\r\n",
    "print(f\"whole_div: {a} + {b} = {whole_div}\")\r\n",
    "print(f\"power: {a} ** {b} = {power}\")\r\n",
    "print(f\"modulo: {a} // {b} = {whole_div} Rest {modulo}\")\r\n"
   ],
   "outputs": [
    {
     "output_type": "stream",
     "name": "stdout",
     "text": [
      "a = 15\n",
      "b = 7\n",
      "add: 15 + 7 = 22\n",
      "sub: 15 - 7 = 8\n",
      "mul: 15 * 7 = 105\n",
      "div: 15 / 7 = 2.142857142857143\n",
      "whole_div: 15 + 7 = 2\n",
      "power: 15 ** 7 = 170859375\n",
      "modulo: 15 // 7 = 2 Rest 1\n"
     ]
    }
   ],
   "metadata": {}
  },
  {
   "cell_type": "markdown",
   "source": [
    "\r\n",
    "<h2 style=\"color: rgb(200, 200, 0);\">Relation</h2>\r\n",
    "A relation compares two arguments and returns a value of True or False.<br>\r\n",
    "As an example (a == b).\r\n",
    "<ul>\r\n",
    "    <li>== : is equal to</li>\r\n",
    "    <li>!= : is not equal to</li>\r\n",
    "    <li><  : is smaller than</li>\r\n",
    "    <li><= : is smaller or equal to</li>\r\n",
    "    <li>>  : is bigger than</li>\r\n",
    "    <li>>= : is bigger ot equal to</li>\r\n",
    "    <li>is : is</li>\r\n",
    "</ul>"
   ],
   "metadata": {}
  },
  {
   "cell_type": "code",
   "execution_count": 19,
   "source": [
    "# We will use the variables a and b from above and a new one c\r\n",
    "c = 7\r\n",
    "\r\n",
    "equal = a == b\r\n",
    "not_equal = a != b\r\n",
    "\r\n",
    "smaller = c < b\r\n",
    "smaller_equal = c <= b\r\n",
    "\r\n",
    "bigger = a > b\r\n",
    "bigger_equal = a >= b\r\n",
    "\r\n",
    "print(f\"{a} is equal to {b} = {equal}\")\r\n",
    "print(f\"{a} is not equal to {b} = {not_equal}\")\r\n",
    "\r\n",
    "print(f\"{c} is smaller than {b} = {smaller}\")\r\n",
    "print(f\"{c} is smaller or equal to {b} = {smaller_equal}\")\r\n",
    "\r\n",
    "print(f\"{a} is bigger than {b} = {bigger}\")\r\n",
    "print(f\"{a} is bigger or equal to {b} = {bigger_equal}\")"
   ],
   "outputs": [
    {
     "output_type": "stream",
     "name": "stdout",
     "text": [
      "15 is equal to 7 = False\n",
      "15 is not equal to 7 = True\n",
      "7 is smaller than 7 = False\n",
      "7 is smaller or equal to 7 = True\n",
      "15 is bigger than 7 = True\n",
      "15 is bigger or equal to 7 = True\n"
     ]
    }
   ],
   "metadata": {}
  },
  {
   "cell_type": "markdown",
   "source": [
    "<h2 style=\"color: rgb(200, 200, 0);\">Assignment</h2>\r\n",
    "As the name suggest we can assign certain values to a variable.\r\n",
    "The other Assignments can be understood as. $$ variable += number $$ is the same as $$ variable = variable + number $$\r\n",
    "<ul>\r\n",
    "    <li>=  : set equal to</li>\r\n",
    "    <li>+= : add a value to the var</li>\r\n",
    "    <li>-= : subtract a value to the var</li>\r\n",
    "    <li>/= : divide a value to the var</li>\r\n",
    "    <li>*= : multiplay ther value</li>\r\n",
    "</ul>"
   ],
   "metadata": {}
  },
  {
   "cell_type": "code",
   "execution_count": 20,
   "source": [
    "# first we assign a variable\r\n",
    "a = 1\r\n",
    "print(f\"a has the value {a} now\")\r\n",
    "\r\n",
    "# with += we can increase the value of a\r\n",
    "a += 5\r\n",
    "print(f\"a has the value {a} after: a += 5\")\r\n",
    "\r\n",
    "# with -= we decrease the value\r\n",
    "a -= 3\r\n",
    "print(f\"a has the value {a} after: a -=3\")\r\n",
    "\r\n",
    "# with /= we divide the val\r\n",
    "a /= 3\r\n",
    "print(f\"a has the value {a} after: a /= 2\")\r\n",
    "\r\n",
    "# with *0 we multiply the value\r\n",
    "a *= 13\r\n",
    "print(f\"a has the value {a} after: a *= 13\")"
   ],
   "outputs": [
    {
     "output_type": "stream",
     "name": "stdout",
     "text": [
      "a has the value 1 now\n",
      "a has the value 6 after: a += 5\n",
      "a has the value 3 after: a -=3\n",
      "a has the value 1.0 after: a /= 2\n",
      "a has the value 13.0 after: a *= 13\n"
     ]
    }
   ],
   "metadata": {}
  },
  {
   "cell_type": "markdown",
   "source": [],
   "metadata": {}
  },
  {
   "cell_type": "markdown",
   "source": [
    "<h2 style=\"color: rgb(200, 200, 0);\">Logical</h2>\r\n",
    "A logical operator connects 2 True or False Statements. There are only 3 operators\r\n",
    "<ul>\r\n",
    "    <li>and</li>\r\n",
    "    <li>or</li>\r\n",
    "    <li>not</li>\r\n",
    "<ul>\r\n"
   ],
   "metadata": {}
  },
  {
   "cell_type": "code",
   "execution_count": 21,
   "source": [
    "statement_1 = True\r\n",
    "statement_2 = False\r\n",
    "\r\n",
    "and_operator = statement_1 and statement_2\r\n",
    "or_operator = statement_1 or statement_2\r\n",
    "not_operator = not statement_1\r\n",
    "\r\n",
    "print(f\"{statement_1} and {statement_2} = {and_operator}\")\r\n",
    "print(f\"{statement_1} or {statement_2} = {or_operator}\")\r\n",
    "print(f\"not {statement_1} = {not_operator}\")"
   ],
   "outputs": [
    {
     "output_type": "stream",
     "name": "stdout",
     "text": [
      "True and False = False\n",
      "True or False = True\n",
      "not True = False\n"
     ]
    }
   ],
   "metadata": {}
  },
  {
   "cell_type": "markdown",
   "source": [
    "<h1 style=\"color: rgb(0, 200, 200);\">4. Data types</h1>\r\n",
    "There many Data types in python. Understanding these Data types is very important, since you will be working with Data types which are very similar to these.<br>\r\n",
    "First we have standard data types, such as:\r\n",
    "<ul>\r\n",
    "    <li>intergers (whole numbers)</li>\r\n",
    "    <li>float (floating point numbers)</li>\r\n",
    "    <li>char (a single letter)</li>\r\n",
    "    <li>Boolean (True or False)</li>\r\n",
    "</ul>\r\n",
    "\r\n",
    "The more complex data types are Lists and strings.\r\n",
    "A list can contain more than just one element."
   ],
   "metadata": {}
  },
  {
   "cell_type": "markdown",
   "source": [
    "<h2 style=\"color: rgb(0, 200, 200);\">Integer and floats </h2>\r\n",
    "An Integer is what we also know as a <b>whole Number</b>. By dividing two intergers, we get a <b>floating point number</b>. Also called as a <b>float</b>.<br>\r\n",
    "We can look up the Datatype with the following codeline \"type()\""
   ],
   "metadata": {}
  },
  {
   "cell_type": "code",
   "execution_count": 22,
   "source": [
    "integer = 5\r\n",
    "float_number = integer / 2\r\n",
    "print(f\"integer has the type: {type(integer)}\")\r\n",
    "print(f\"float_number ({float_number}) has the type: {type(float_number)}\")"
   ],
   "outputs": [
    {
     "output_type": "stream",
     "name": "stdout",
     "text": [
      "integer has the type: <class 'int'>\n",
      "float_number (2.5) has the type: <class 'float'>\n"
     ]
    }
   ],
   "metadata": {}
  },
  {
   "cell_type": "markdown",
   "source": [
    "We can change the Datatype of a float to an integer or from an integer to a float.\r\n"
   ],
   "metadata": {}
  },
  {
   "cell_type": "code",
   "execution_count": 23,
   "source": [
    "integer = float(integer)    # resigning the variable \"integer\", by changing it to a float\r\n",
    "float_number = int(float_number)    # changing \"float_number\" into an integer\r\n",
    "print(f\"After changing \\\"integer\\\" into a float, it has the value: {integer}\\n and the datatype: {type(integer)}\")\r\n",
    "print(f\"After changing \\\"float_number\\\" into a float, it has the value: {float_number}\\n and the datatype: {type(float_number)}\")"
   ],
   "outputs": [
    {
     "output_type": "stream",
     "name": "stdout",
     "text": [
      "After changing \"integer\" into a float, it has the value: 5.0\n",
      " and the datatype: <class 'float'>\n",
      "After changing \"float_number\" into a float, it has the value: 2\n",
      " and the datatype: <class 'int'>\n"
     ]
    }
   ],
   "metadata": {}
  },
  {
   "cell_type": "markdown",
   "source": [
    "<h2 style=\"color: rgb(0, 200, 200);\">Char</h2>\r\n",
    "A Char is normally not used in Python. In general it is a single character/Letter from a String. All Letters avaible are in the <a href=\"https://www.torsten-horn.de/techdocs/ascii.htm\">ASCII table</a>"
   ],
   "metadata": {}
  },
  {
   "cell_type": "markdown",
   "source": [
    "<h2 style=\"color: rgb(0, 200, 130);\">List (Array) and Strings</h2>\r\n",
    "<h3 style=\"color: rgb(0, 200, 130);\">Initialization</h3>\r\n",
    "A list also called an array, can contain multiple Datatypes. We can initialize a list in two different ways.<ul>\r\n",
    "    <li>list()  => initialize an empty list</li>\r\n",
    "    <li>[]      => also initializes a list, but can already contain elements</li>\r\n",
    "    <li>[1, 2, \"Hallo\"]  => is the same initialization as shown above, but already contains 3 elements</li>\r\n",
    "</ul>\r\n",
    "Example:"
   ],
   "metadata": {}
  },
  {
   "cell_type": "code",
   "execution_count": 46,
   "source": [
    "list_1 = list()         # First initialization => empty\r\n",
    "list_2 = [3, 5, 4, 2]      # second initialization => has element 3, 5 and 2"
   ],
   "outputs": [],
   "metadata": {}
  },
  {
   "cell_type": "markdown",
   "source": [
    "<h3 style=\"color: rgb(0, 200, 130);\">Accessing list elements</h3>\r\n",
    "We can access an element by writing figuring out the index of the element we want to access.<br>In the list_2 from above the element 3 would have the index 0.\r\n",
    "<ul>\r\n",
    "    <li>element 3 => index 0</li>\r\n",
    "    <li>element 5 => index 1</li>\r\n",
    "    <li>element 4 => index 2</li>\r\n",
    "    <li>element 2 => index 3</li>\r\n",
    "</ul>\r\n",
    "As you may have noticed, we start counting from 0 to the lenght of the array (not included).<br>\r\n",
    "We write the index in the square brackets after the name to access it. As an Example:"
   ],
   "metadata": {}
  },
  {
   "cell_type": "code",
   "execution_count": 25,
   "source": [
    "our_wanted_element = list_2[2]      # The number 2 is not the element, but the index of the list\r\n",
    "# ==> meaning the second element of the list (counting from 0)\r\n",
    "print(f\"the element at the index 2 is the number: {our_wanted_element}\")"
   ],
   "outputs": [
    {
     "output_type": "stream",
     "name": "stdout",
     "text": [
      "the element at the index 2 is the number: 4\n"
     ]
    }
   ],
   "metadata": {}
  },
  {
   "cell_type": "markdown",
   "source": [
    "We can even change the element of the list"
   ],
   "metadata": {}
  },
  {
   "cell_type": "code",
   "execution_count": 26,
   "source": [
    "print(f\"the list before the change: {list_2}\")\r\n",
    "list_2[2] = 10      # the element in the second index will be changed to 10\r\n",
    "print(f\"the list now looks like this {list_2}\")"
   ],
   "outputs": [
    {
     "output_type": "stream",
     "name": "stdout",
     "text": [
      "the list before the change: [3, 5, 4, 2]\n",
      "the list now looks like this [3, 5, 10, 2]\n"
     ]
    }
   ],
   "metadata": {}
  },
  {
   "cell_type": "markdown",
   "source": [
    "<h3 style=\"color: rgb(0, 200, 130);\">Accessing multiple elements</h3>\r\n",
    "We can access multiple list elements by writing => [startindex : endindex] where the endindex is not included<br>\r\n",
    "The output will not be one element, but another list.<br>\r\n",
    "Example:"
   ],
   "metadata": {}
  },
  {
   "cell_type": "code",
   "execution_count": 27,
   "source": [
    "list_2[0:2]         # 3 has index 0 and 4 has index 2, but the index 2 is not included"
   ],
   "outputs": [
    {
     "output_type": "execute_result",
     "data": {
      "text/plain": [
       "[3, 5]"
      ]
     },
     "metadata": {},
     "execution_count": 27
    }
   ],
   "metadata": {}
  },
  {
   "cell_type": "markdown",
   "source": [
    "We can even tell it, how long the steps should be. In generall, it is formated as so $$list[start : stop : step]$$\r\n",
    "Example:"
   ],
   "metadata": {}
  },
  {
   "cell_type": "code",
   "execution_count": 28,
   "source": [
    "list_2[0:6:2]"
   ],
   "outputs": [
    {
     "output_type": "execute_result",
     "data": {
      "text/plain": [
       "[3, 10]"
      ]
     },
     "metadata": {},
     "execution_count": 28
    }
   ],
   "metadata": {}
  },
  {
   "cell_type": "markdown",
   "source": [
    "leaving the start and stop empty means, from the first index and last index:"
   ],
   "metadata": {}
  },
  {
   "cell_type": "code",
   "execution_count": 29,
   "source": [
    "list_2[:4:2]    # from the beginning to the index 4 with steps of 2"
   ],
   "outputs": [
    {
     "output_type": "execute_result",
     "data": {
      "text/plain": [
       "[3, 10]"
      ]
     },
     "metadata": {},
     "execution_count": 29
    }
   ],
   "metadata": {}
  },
  {
   "cell_type": "code",
   "execution_count": 30,
   "source": [
    "list_2[1::2]    # from the index 1 to the end with steps of 2"
   ],
   "outputs": [
    {
     "output_type": "execute_result",
     "data": {
      "text/plain": [
       "[5, 2]"
      ]
     },
     "metadata": {},
     "execution_count": 30
    }
   ],
   "metadata": {}
  },
  {
   "cell_type": "markdown",
   "source": [
    "<h3 style=\"color: rgb(0, 200, 130);\">Adding elements<h3>\r\n",
    "To add some elements we use the function .append(element)"
   ],
   "metadata": {}
  },
  {
   "cell_type": "code",
   "execution_count": 31,
   "source": [
    "print(f\"Our list before: {list_2}\")\r\n",
    "list_2.append(10)       # we just added a 10 into our list\r\n",
    "print(f\"Our list has a 10 at the end now: {list_2}\")"
   ],
   "outputs": [
    {
     "output_type": "stream",
     "name": "stdout",
     "text": [
      "Our list before: [3, 5, 10, 2]\n",
      "Our list has a 10 at the end now: [3, 5, 10, 2, 10]\n"
     ]
    }
   ],
   "metadata": {}
  },
  {
   "cell_type": "markdown",
   "source": [
    "<h3 style=\"color: rgb(0, 200, 130);\">Merging 2 list</h3>\r\n",
    "In the case, where you want to merge 2 list into one, we cannot just use .append(list).<br>\r\n",
    "If we append a list to a list, it will not merge, but instead create a list in list, which we can access differently."
   ],
   "metadata": {}
  },
  {
   "cell_type": "code",
   "execution_count": 32,
   "source": [
    "# list in list\r\n",
    "another_list = [5, 2, 10, 3]\r\n",
    "list_2.append(another_list)\r\n",
    "print(f\"After using .append({another_list}), list_2 changes to: {list_2}\")"
   ],
   "outputs": [
    {
     "output_type": "stream",
     "name": "stdout",
     "text": [
      "After using .append([5, 2, 10, 3]), list_2 changes to: [3, 5, 10, 2, 10, [5, 2, 10, 3]]\n"
     ]
    }
   ],
   "metadata": {}
  },
  {
   "cell_type": "markdown",
   "source": [
    "List_2 now contains a list element in his last index. But we can still access it. First we have access the last element.<br>\r\n",
    "We can do that by counting the index starting with 0 or<br>\r\n",
    "by inputing -1 as the index. with negative numbers we move backwards from the list<br>\r\n",
    "Another way ist to use the function $len(list)$, which returns the lenght of the list, then we have to subtract it with 1 since we always start counting from 0.\r\n"
   ],
   "metadata": {}
  },
  {
   "cell_type": "code",
   "execution_count": 33,
   "source": [
    "list_2[5]           # the last element manually"
   ],
   "outputs": [
    {
     "output_type": "execute_result",
     "data": {
      "text/plain": [
       "[5, 2, 10, 3]"
      ]
     },
     "metadata": {},
     "execution_count": 33
    }
   ],
   "metadata": {}
  },
  {
   "cell_type": "code",
   "execution_count": 34,
   "source": [
    "list_2[-1]          # going backwards"
   ],
   "outputs": [
    {
     "output_type": "execute_result",
     "data": {
      "text/plain": [
       "[5, 2, 10, 3]"
      ]
     },
     "metadata": {},
     "execution_count": 34
    }
   ],
   "metadata": {}
  },
  {
   "cell_type": "code",
   "execution_count": 35,
   "source": [
    "list_2[len(list_2)-1]   # the lenght is 6, but we start counting from 0, so -1"
   ],
   "outputs": [
    {
     "output_type": "execute_result",
     "data": {
      "text/plain": [
       "[5, 2, 10, 3]"
      ]
     },
     "metadata": {},
     "execution_count": 35
    }
   ],
   "metadata": {}
  },
  {
   "cell_type": "markdown",
   "source": [
    "Each approach gives us the right answer, but i recommend not to use the first way, since it involves counting maually and it gets very difficult with large Arrays.<br>\r\n",
    "not that you can access the list inside of a list, you can try to access an element inside of it.\r\n",
    "To do that, we just treat our code from above as a list again."
   ],
   "metadata": {}
  },
  {
   "cell_type": "code",
   "execution_count": 36,
   "source": [
    "list_2[-1][0]       # just imagine, that \"list_2[-1]\" is the variable name and access the index 0"
   ],
   "outputs": [
    {
     "output_type": "execute_result",
     "data": {
      "text/plain": [
       "5"
      ]
     },
     "metadata": {},
     "execution_count": 36
    }
   ],
   "metadata": {}
  },
  {
   "cell_type": "markdown",
   "source": [
    "<h3 style=\"color: rgb(0, 200, 130);\">Merging</h3>\r\n",
    "To actually merge, we can just add two list together: list_1 + list_2"
   ],
   "metadata": {}
  },
  {
   "cell_type": "code",
   "execution_count": 37,
   "source": [
    "# initialize two list\r\n",
    "l_1 = [1, 3, 4]\r\n",
    "l_2 = [7, 2, 6]\r\n",
    "merged_list = l_1 + l_2\r\n",
    "print(f\"{l_1} + {l_2} = {merged_list}\")"
   ],
   "outputs": [
    {
     "output_type": "stream",
     "name": "stdout",
     "text": [
      "[1, 3, 4] + [7, 2, 6] = [1, 3, 4, 7, 2, 6]\n"
     ]
    }
   ],
   "metadata": {}
  },
  {
   "cell_type": "markdown",
   "source": [
    "Another method is using $.extend(list)$"
   ],
   "metadata": {}
  },
  {
   "cell_type": "code",
   "execution_count": 38,
   "source": [
    "l_1.extend(l_2)\r\n",
    "l_1"
   ],
   "outputs": [
    {
     "output_type": "execute_result",
     "data": {
      "text/plain": [
       "[1, 3, 4, 7, 2, 6]"
      ]
     },
     "metadata": {},
     "execution_count": 38
    }
   ],
   "metadata": {}
  },
  {
   "cell_type": "markdown",
   "source": [
    "Adding two list like a vector will be mentioned in numpy"
   ],
   "metadata": {}
  },
  {
   "cell_type": "markdown",
   "source": [
    "<h3 style=\"color: rgb(0, 200, 130);\">Deleting an element from a list</h3>\r\n",
    "To delete an element from a list, we use the function $.pop(index)$ This will just \"pop\" out an element from the list.<br>Example:"
   ],
   "metadata": {}
  },
  {
   "cell_type": "code",
   "execution_count": 39,
   "source": [
    "print(f\"The list before deleting an element: {l_1}\")\r\n",
    "l_1.pop(0)      # if no index is given it will pop the last index\r\n",
    "print(f\"The list after .pop() => {l_1}\")"
   ],
   "outputs": [
    {
     "output_type": "stream",
     "name": "stdout",
     "text": [
      "The list before deleting an element: [1, 3, 4, 7, 2, 6]\n",
      "The list after .pop() => [3, 4, 7, 2, 6]\n"
     ]
    }
   ],
   "metadata": {}
  },
  {
   "cell_type": "markdown",
   "source": [
    "We have some functions that can be applied to an array.\r\n",
    "<ul>\r\n",
    "    <li>len(list): returns the number of elements in a list</li>\r\n",
    "    <li>min(list): returns the minimum number</li>\r\n",
    "    <li>max(list): returns the maximumn number</li>\r\n",
    "    <li>sum(list): returns the sum of a number list</li>\r\n",
    "</ul>"
   ],
   "metadata": {}
  },
  {
   "cell_type": "code",
   "execution_count": 40,
   "source": [
    "lenght = len(l_1)\r\n",
    "minimum = min(l_1)\r\n",
    "maximum = max(l_1)\r\n",
    "sum_list = sum(l_1)\r\n",
    "print(f\"The lenght of the list is {lenght}\")\r\n",
    "print(f\"The minimum in the list is {minimum}\")\r\n",
    "print(f\"The maximum of the list is {maximum}\")\r\n",
    "print(f\"The list summed together is equal to {sum_list}\")"
   ],
   "outputs": [
    {
     "output_type": "stream",
     "name": "stdout",
     "text": [
      "The lenght of the list is 5\n",
      "The minimum in the list is 2\n",
      "The maximum of the list is 7\n",
      "The list summed together is equal to 22\n"
     ]
    }
   ],
   "metadata": {}
  },
  {
   "cell_type": "markdown",
   "source": [
    "<h2 style=\"color: rgb(0, 200, 130);\">Strings</h2>\r\n",
    "A String can be viewed as a list of characters. If we add two Strings together, it will merge those two list, just like with the lists."
   ],
   "metadata": {}
  },
  {
   "cell_type": "code",
   "execution_count": 41,
   "source": [
    "string_1 = \"Good\"           # This string can be viewes like: [\"G\", \"o\", \"o\", \"d\"]\r\n",
    "string_2 = \" morning\"\r\n",
    "\r\n",
    "# since a String is a list of characters, we can access the first letter and the last letter\r\n",
    "first_letter = string_1[0]\r\n",
    "last_letter = string_1[-1]\r\n",
    "print(f\"The first letter is: {first_letter}\\nThe last letter is: {last_letter}\")\r\n",
    "\r\n",
    "# we can add it just like two lists\r\n",
    "merged_string = string_1 + string_2\r\n",
    "print(f\"The merged string is: {merged_string}\")"
   ],
   "outputs": [
    {
     "output_type": "stream",
     "name": "stdout",
     "text": [
      "The first letter is: G\n",
      "The last letter is: d\n",
      "The merged string is: Good morning\n"
     ]
    }
   ],
   "metadata": {}
  },
  {
   "cell_type": "markdown",
   "source": [
    "<h2 style=\"color: rgb(200, 0, 200);\">Dictionarys</h2>\r\n",
    "A Dictionary can also hold multiple elements. Unlike the list (Array), we do not access the element by the index. The dictionary has a concept of a Key and Value.\r\n",
    "A Key is used to access it's Value.<br>\r\n",
    "\r\n",
    "<h3 style=\"color: rgb(200, 0, 200);\">initialization</h3>\r\n",
    "Just like a list, we can initialze a dictionary in two ways.\r\n",
    "<ul>\r\n",
    "    <li> $dict()$  => it an empty dictionary</li>\r\n",
    "    <li> ${key : value}$ => creates one dictionary element with a key and value</li>\r\n",
    "</ul>"
   ],
   "metadata": {}
  },
  {
   "cell_type": "code",
   "execution_count": 42,
   "source": [
    "dict_init_1 = dict()        # empty dictionary\r\n",
    "dict_init_2 = {\"orange\": 10, \"strawberry\": 20}      # created a dictionary with 2 elements"
   ],
   "outputs": [],
   "metadata": {}
  },
  {
   "cell_type": "markdown",
   "source": [
    "<h3 style=\"color: rgb(200, 0, 200);\">Access dictionary</h3>\r\n",
    "We can now access the dictionary, just like a list. But instead of giving in the index, we use the key. The output will be the value."
   ],
   "metadata": {}
  },
  {
   "cell_type": "code",
   "execution_count": 43,
   "source": [
    "cost_orange = dict_init_2[\"orange\"]\r\n",
    "print(f\"the orange costs {cost_orange} Euro\")       # I know it's expensive"
   ],
   "outputs": [
    {
     "output_type": "stream",
     "name": "stdout",
     "text": [
      "the orange costs 10 Euro\n"
     ]
    }
   ],
   "metadata": {}
  },
  {
   "cell_type": "markdown",
   "source": [
    "<h3 style=\"color: rgb(200, 0, 200);\">changing the value</h3>\r\n",
    "We can change the value of a key, just like with the lists"
   ],
   "metadata": {}
  },
  {
   "cell_type": "code",
   "execution_count": 44,
   "source": [
    "dict_init_2[\"orange\"] = 1.34            # changing the value of the key \"orange\"\r\n",
    "print(f\"now our dicitonary looks like this: {dict_init_2}\")"
   ],
   "outputs": [
    {
     "output_type": "stream",
     "name": "stdout",
     "text": [
      "now our dicitonary looks like this: {'orange': 1.34, 'strawberry': 20}\n"
     ]
    }
   ],
   "metadata": {}
  },
  {
   "cell_type": "markdown",
   "source": [
    "<h3 style=\"color: rgb(200, 0, 200);\">adding new element</h3>\r\n",
    "To add a new element, we have to declare the new key and give it a new value:"
   ],
   "metadata": {}
  },
  {
   "cell_type": "code",
   "execution_count": 45,
   "source": [
    "# create new element\r\n",
    "dict_init_2[\"apple\"] = 1.1\r\n",
    "print(f\"now our dictionary has another entry: {dict_init_2}\")"
   ],
   "outputs": [
    {
     "output_type": "stream",
     "name": "stdout",
     "text": [
      "now our dictionary has another entry: {'orange': 1.34, 'strawberry': 20, 'apple': 1.1}\n"
     ]
    }
   ],
   "metadata": {}
  },
  {
   "cell_type": "markdown",
   "source": [
    "<h1>END</h1>\r\n",
    "This concludes the introduction into the Datatypes. It is pretty boring, if we can not do anything with those datatypes, therefore we will next learn about controllstructures and Loops."
   ],
   "metadata": {}
  }
 ],
 "metadata": {
  "orig_nbformat": 4,
  "language_info": {
   "name": "python",
   "version": "3.8.7",
   "mimetype": "text/x-python",
   "codemirror_mode": {
    "name": "ipython",
    "version": 3
   },
   "pygments_lexer": "ipython3",
   "nbconvert_exporter": "python",
   "file_extension": ".py"
  },
  "kernelspec": {
   "name": "python3",
   "display_name": "Python 3.8.7 64-bit"
  },
  "interpreter": {
   "hash": "bd216bc2c0a4d891b93e4ba5dba2c1071f5c01076a47a39818a305595ac383b1"
  }
 },
 "nbformat": 4,
 "nbformat_minor": 2
}