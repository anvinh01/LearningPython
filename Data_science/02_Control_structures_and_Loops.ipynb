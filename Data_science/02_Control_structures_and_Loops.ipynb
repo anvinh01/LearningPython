{
 "cells": [
  {
   "cell_type": "markdown",
   "source": [
    "<h1>Table of contents</h1>\r\n",
    "<ul>\r\n",
    "    <li><h2>Control structures</h2>\r\n",
    "        <ul>\r\n",
    "            <li><h3>if-statement</h3></li>\r\n",
    "            <li><h3>else if-statement</h3></li>\r\n",
    "            <li><h3>else-statement</h3></li>\r\n",
    "        </ul>\r\n",
    "    </li>\r\n",
    "    <li><h2>Loops</h2>\r\n",
    "        <ul>\r\n",
    "            <li><h3>while loop</h3></li>\r\n",
    "            <li><h3>for (list)</h3></li>\r\n",
    "            <li><h3>for (range)</h3></li>\r\n",
    "            <li><h3>break / continue</h3></li>\r\n",
    "        </ul>\r\n",
    "    </li>\r\n",
    "    <li>\r\n",
    "        <li><h2>Exercise</h2></li>\r\n",
    "        <ul>\r\n",
    "            <li><h3>E.1: Numbers in 3-step</h3></li>\r\n",
    "            <li><h3>E.2: Count number of C</h3></li>\r\n",
    "        </ul>\r\n",
    "    </li>\r\n",
    "</ul>"
   ],
   "metadata": {}
  },
  {
   "cell_type": "markdown",
   "source": [
    "<h1>Control structures</h1>\r\n",
    "<h2>if-statement</h2>\r\n",
    "An if-statement controls, if a condition is met (the condition is True). If the condition is met, the code in the indented block will run.<br>\r\n",
    "Python reconizes a block through the indentions, so be careful if you set spaces before a line.<br>\r\n",
    "An if-statement is build as followed:<br><br>\r\n",
    "<code>\r\n",
    "if condition:&emsp;(The \":\" is needed and the code must be indented afterwards)<br>\r\n",
    "&emsp;pass&emsp;(after an if-statement we must run at least one line of code)<br>\r\n",
    "pass&emsp;(this code will run after the code in the statement or if the condition is False)<br>\r\n",
    "</code>\r\n",
    "<br>\r\n",
    "code outside of the if-statement (not indented)\r\n",
    "<br><br>\r\n",
    "Example:"
   ],
   "metadata": {}
  },
  {
   "cell_type": "code",
   "execution_count": 1,
   "source": [
    "some_number = 7\r\n",
    "if some_number < 10:    # the condition is that the number is lesser than 10\r\n",
    "    print(f\"{some_number} is smaller than 10\")\r\n",
    "    some_number += 1    # the number will increase\r\n",
    "print(f\"The number has increased and is now: {some_number}\")"
   ],
   "outputs": [
    {
     "output_type": "stream",
     "name": "stdout",
     "text": [
      "7 is smaller than 10\n",
      "The number has increased and is now: 8\n"
     ]
    }
   ],
   "metadata": {}
  },
  {
   "cell_type": "markdown",
   "source": [
    "<h2>else if-statement</h2>\r\n",
    "An Elif-statement is a second condition, <b>if the first one is not met</b>.<br>\r\n",
    "This section will only be called, when the <b>first condition is not met</b><br>\r\n",
    "The Syntax is the same as in an normal if-statment, but instead of a normal if we have: <code>elif condition:</code>"
   ],
   "metadata": {}
  },
  {
   "cell_type": "code",
   "execution_count": 2,
   "source": [
    "if some_number < 5:             # This condition is not met\r\n",
    "    print(f\"{some_number} is smaller than 5\")\r\n",
    "\r\n",
    "elif some_number <= 8:          # this block is not indented anymore\r\n",
    "    print(f\"{some_number} is smaller or equal to 8 and we know it's bigger than 5\")\r\n",
    "\r\n",
    "elif some_number < 10:          # eventhough this condition is also true, the code will not reach it, since it will exit after the condition above is right\r\n",
    "    print(f\"{some_number} is smaller thatn 10 and bigger than 8\")\r\n",
    "\r\n",
    "# This if statement is independent\r\n",
    "if some_number < 10:\r\n",
    "    print(f\"This section is not part of the if-statement from above\")"
   ],
   "outputs": [
    {
     "output_type": "stream",
     "name": "stdout",
     "text": [
      "8 is smaller or equal to 8 and we know it's bigger than 5\n",
      "This section is not part of the if-statement from above\n"
     ]
    }
   ],
   "metadata": {}
  },
  {
   "cell_type": "markdown",
   "source": [
    "<h2>else-statement</h2>\r\n",
    "The last statment, is the else-statement. The else statment has no condition. The code instide the else block will be run, if none of the conditions before it is met.<br>\r\n",
    "<code>else:</code>"
   ],
   "metadata": {}
  },
  {
   "cell_type": "code",
   "execution_count": 3,
   "source": [
    "if some_number < 5:\r\n",
    "    print(f\"{some_number} is smaller than 5\")\r\n",
    "\r\n",
    "elif some_number < 7:\r\n",
    "    print(f\"{some_number} is also smaller than 7\")\r\n",
    "\r\n",
    "else:\r\n",
    "    print(f\"Since it is not smaller than 5 or 7, it must be equal or larger than 7\")"
   ],
   "outputs": [
    {
     "output_type": "stream",
     "name": "stdout",
     "text": [
      "Since it is not smaller than 5 or 7, it must be equal or larger than 7\n"
     ]
    }
   ],
   "metadata": {}
  },
  {
   "cell_type": "markdown",
   "source": [
    "<h1>Loops</h1>\r\n",
    "A Loop will repeat the entire time until a condition is met or not met anymore.\r\n",
    "<h2>while-Loop</h2>\r\n",
    "In the while-Loop a condition is declared at the beginning. If the condition is met, it will continue the Loop. if it is not met, it will exit.<br>\r\n",
    "\"while the condition is met, the block will run\"<br>\r\n",
    "<code>\r\n",
    "while condition == True:<br>\r\n",
    "&emsp;code_block\r\n",
    "</code>"
   ],
   "metadata": {}
  },
  {
   "cell_type": "code",
   "execution_count": 4,
   "source": [
    "some_number = 0\r\n",
    "while some_number < 5:      # while our number is smaller than 5\r\n",
    "    some_number += 1        # we will increase the number\r\n",
    "    print(f\"our number is increased to: {some_number}\")\r\n",
    "\r\n",
    "# we are ouside of the block again\r\n",
    "print(f\"We have exited our loop with the number: {some_number}\")"
   ],
   "outputs": [
    {
     "output_type": "stream",
     "name": "stdout",
     "text": [
      "our number is increased to: 1\n",
      "our number is increased to: 2\n",
      "our number is increased to: 3\n",
      "our number is increased to: 4\n",
      "our number is increased to: 5\n",
      "We have exited our loop with the number: 5\n"
     ]
    }
   ],
   "metadata": {}
  },
  {
   "cell_type": "markdown",
   "source": [
    "<h2>for-Loop (list)</h2>\r\n",
    "This for-Loop initialize a variable which will take the value of an element in the list.<br>\r\n",
    "<code>for i in list:<br>\r\n",
    "&emsp;coder_block</code><br>\r\n",
    "The variable i will be set equal to the first element of the list, the block will run. <br>Then the variable i will take the second element and run the block again.<br>\r\n",
    "The number of times, the block will run, is equal to the lenght of the list."
   ],
   "metadata": {}
  },
  {
   "cell_type": "code",
   "execution_count": 7,
   "source": [
    "list_1 = [2, 4, 6, 8, 10]\r\n",
    "run_number = 0\r\n",
    "for i in list_1:            # for variable i in the list list_1\r\n",
    "    print(f\"in the {run_number}. run, our variable i takes the number: {i}\")\r\n",
    "    run_number += 1         # increast the run_number since the code block has been run 1 time\r\n",
    "\r\n",
    "print(f\"the number of times the block is run, is equal to: {run_number}\\nwhich is equal to the length of the list: {len(list_1)}\")"
   ],
   "outputs": [
    {
     "output_type": "stream",
     "name": "stdout",
     "text": [
      "in the 0. run, our variable i takes the number: 2\n",
      "in the 1. run, our variable i takes the number: 4\n",
      "in the 2. run, our variable i takes the number: 6\n",
      "in the 3. run, our variable i takes the number: 8\n",
      "in the 4. run, our variable i takes the number: 10\n",
      "the number of times the block is run, is equal to: 5\n",
      "which is equal to the length of the list: 5\n"
     ]
    }
   ],
   "metadata": {}
  },
  {
   "cell_type": "markdown",
   "source": [
    "The variable doesn't have to be \"i\" but, the fact remains, that the variable will take the value of the list given.\r\n",
    "\r\n",
    "<h2>for i in range()</h2>\r\n",
    "<b>range(beginn, end, step)</b> is a function, which creates a \"list\" of elements from the beginning_number to the end_number (end_number is not included). Per default is the step 1, but we can give the step into the input.<br> Let's create a list from 1 to 10: "
   ],
   "metadata": {}
  },
  {
   "cell_type": "code",
   "execution_count": 5,
   "source": [
    "list_range = range(1, 11)       # don't forget, that the 11 is not included\r\n",
    "\r\n",
    "# we can now access the first element and the last element.\r\n",
    "print(f\"The first element is: {list_range[0]}\\nthe last element is: {list_range[-1]}\")\r\n",
    "print(f\"The datatype is: {type(list_range)}\")             # as you can see it is not really a list, but a range\r\n",
    "\r\n",
    "list_range = list(list_range)       # but we can fully convert it into a list and it will have all properties of an Array\r\n",
    "print(f\"This is now a list: {list_range}\")               "
   ],
   "outputs": [
    {
     "output_type": "stream",
     "name": "stdout",
     "text": [
      "The first element is: 1\n",
      "the last element is: 10\n",
      "The datatype is: <class 'range'>\n",
      "This is now a list: [1, 2, 3, 4, 5, 6, 7, 8, 9, 10]\n"
     ]
    }
   ],
   "metadata": {}
  },
  {
   "cell_type": "markdown",
   "source": [
    "Knowing that means, we can use it to iterate from 1 to a specific number. Example:"
   ],
   "metadata": {}
  },
  {
   "cell_type": "code",
   "execution_count": 6,
   "source": [
    "for i in range(0, 5):\r\n",
    "    print(f\"i has the value: {i}\")"
   ],
   "outputs": [
    {
     "output_type": "stream",
     "name": "stdout",
     "text": [
      "i has the value: 0\n",
      "i has the value: 1\n",
      "i has the value: 2\n",
      "i has the value: 3\n",
      "i has the value: 4\n"
     ]
    }
   ],
   "metadata": {}
  },
  {
   "cell_type": "markdown",
   "source": [
    "We can use it to go through a list too. We will use the \"i\" as the index number and go from the index 0 to the length of the array. Example:"
   ],
   "metadata": {}
  },
  {
   "cell_type": "code",
   "execution_count": 8,
   "source": [
    "our_list = [4, 20, 10, 3]                   # our list has the length 4, but the last index is 3\r\n",
    "for i in range(0, len(our_list)):           # from index 0 to the length of the list\r\n",
    "    print(f\"The index {i} in our list hast the element: {our_list[i]}\")"
   ],
   "outputs": [
    {
     "output_type": "stream",
     "name": "stdout",
     "text": [
      "The index 0 in our list hast the element: 4\n",
      "The index 1 in our list hast the element: 20\n",
      "The index 2 in our list hast the element: 10\n",
      "The index 3 in our list hast the element: 3\n"
     ]
    }
   ],
   "metadata": {}
  },
  {
   "cell_type": "markdown",
   "source": [
    "<h2>Break</h2>\r\n",
    "We can exit the Loop early, with break."
   ],
   "metadata": {}
  },
  {
   "cell_type": "code",
   "execution_count": 10,
   "source": [
    "for i in range(0, 10):\r\n",
    "    print(f\"The first number is: {i}\")            # print out the first number\r\n",
    "    break               # and immediatly break afterwards"
   ],
   "outputs": [
    {
     "output_type": "stream",
     "name": "stdout",
     "text": [
      "The first number is: 0\n"
     ]
    }
   ],
   "metadata": {}
  },
  {
   "cell_type": "markdown",
   "source": [
    "<h1>Note</h1>\r\n",
    "For people who are new to programming, should know that we can have multiple Loops or if-statements within eachother. Just be aware of the numbers of indents you have.<br>\r\n",
    "Example of <b>two if-statements</b>:"
   ],
   "metadata": {}
  },
  {
   "cell_type": "code",
   "execution_count": 2,
   "source": [
    "# Let's check if our number is a multiple of 2 and 3, or just from 2\r\n",
    "our_number = 6\r\n",
    "if our_number % 2 == 0:\r\n",
    "    print(f\"{our_number} is a multiple of 2\")\r\n",
    "    if our_number % 3 == 0:\r\n",
    "        print(\"and a multiple of 3\")            # here are two indents\r\n",
    "    else:\r\n",
    "        print(\"but not a multiple of 2\")\r\n",
    "else:\r\n",
    "    print(f\"{our_number} is not a multiple of 2\")"
   ],
   "outputs": [
    {
     "output_type": "stream",
     "name": "stdout",
     "text": [
      "6 is a multiple of 2\n",
      "and a multiple of 3\n"
     ]
    }
   ],
   "metadata": {}
  },
  {
   "cell_type": "markdown",
   "source": [
    "be aware, that we can <b>only</b> check if our_number is a multiple of 3, <b>after</b> we checked if it is a multiple of 2 in the example above.<br>\r\n",
    "Example of <b>if-statement in for-Loop</b>:"
   ],
   "metadata": {}
  },
  {
   "cell_type": "code",
   "execution_count": 9,
   "source": [
    "# let's count the numbers of a in a word\r\n",
    "word = \"Annanas\"\r\n",
    "count = 0\r\n",
    "for i in range(0, len(word)):\r\n",
    "    if word[i] == \"a\" or word[i] == \"A\":        # the a and A are different, since Python is case sensetive\r\n",
    "        count += 1\r\n",
    "print(f\"The number of times a is in {word} is equal to {count}\")"
   ],
   "outputs": [
    {
     "output_type": "stream",
     "name": "stdout",
     "text": [
      "The number of times a is in Annanas is equal to 3\n"
     ]
    }
   ],
   "metadata": {}
  },
  {
   "cell_type": "markdown",
   "source": [
    "<h1>Exercise</h1>\r\n",
    "Let's do some exercises, you may use any method you want to. Since the solution can be achieved in many ways, you can even try to get the same output in different ways."
   ],
   "metadata": {}
  },
  {
   "cell_type": "markdown",
   "source": [
    "<h2>E.1: Numbers in 3-step</h2>\r\n",
    "We want to have a list (Array), which contains the number from 6 to 90 (90 included), but with a step of 3, meaning: [6, 9, 12, 15, 18, ...., 90]<br>\r\n",
    "important: the type should be a list not a range."
   ],
   "metadata": {}
  },
  {
   "cell_type": "code",
   "execution_count": 1,
   "source": [
    "# place for your solution\r\n",
    "# beginning from 6 to 90 (included)\r\n",
    "\r\n",
    "# output: [6, 9, 12, 15, 18, ...., 87, 90]\r\n",
    "# print your list out"
   ],
   "outputs": [],
   "metadata": {}
  },
  {
   "cell_type": "markdown",
   "source": [
    "<h2>E.2: Count number of C</h2>\r\n",
    "count the numbers of the letter \"C\" and \"c\" in the sentence \"Choco Latte is my favorite choice.\" and print the number out."
   ],
   "metadata": {}
  },
  {
   "cell_type": "code",
   "execution_count": 11,
   "source": [
    "# place for your solution\r\n",
    "# here is the sentence\r\n",
    "sentence = \"Choco Latte is my favorite choice.\""
   ],
   "outputs": [],
   "metadata": {}
  }
 ],
 "metadata": {
  "orig_nbformat": 4,
  "language_info": {
   "name": "python",
   "version": "3.8.7",
   "mimetype": "text/x-python",
   "codemirror_mode": {
    "name": "ipython",
    "version": 3
   },
   "pygments_lexer": "ipython3",
   "nbconvert_exporter": "python",
   "file_extension": ".py"
  },
  "kernelspec": {
   "name": "python3",
   "display_name": "Python 3.8.7 64-bit"
  },
  "interpreter": {
   "hash": "bd216bc2c0a4d891b93e4ba5dba2c1071f5c01076a47a39818a305595ac383b1"
  }
 },
 "nbformat": 4,
 "nbformat_minor": 2
}