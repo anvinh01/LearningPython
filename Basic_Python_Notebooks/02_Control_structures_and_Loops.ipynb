{
 "cells": [
  {
   "cell_type": "markdown",
   "metadata": {},
   "source": [
    "<h1>Table of contents</h1>\n",
    "<ul>\n",
    "    <li><a href=\"#control_structures\" style=\"color: rgb(200, 200, 0);\"><h2>Control structures</h2></a>\n",
    "        <ul>\n",
    "            <li><a href=\"#if_statement\" style=\"color: rgb(200, 200, 0);\"><h3>if-statement</h3></a></li>\n",
    "            <li><a href=\"#else_if_statement\" style=\"color: rgb(200, 200, 0);\"><h3>else if-statement</h3></a></li>\n",
    "            <li><a href=\"#else_statement\" style=\"color: rgb(200, 200, 0);\"><h3>else-statement</h3></a></li>\n",
    "            <li><a href=\"#if_understanding\" style=\"color: rgb(200, 200, 0);\"><h3>Understanding and Usage Exercises</h3></a></li>\n",
    "        </ul>\n",
    "    </li>\n",
    "    <li><a href=\"#loop\" style=\"color: rgb(0, 200, 200);\"><h2>Loops</h2></a>\n",
    "        <ul>\n",
    "            <li><a href=\"#while_loop\" style=\"color: rgb(0, 200, 200);\"><h3>while loop</h3></a></li>\n",
    "            <li><a href=\"#for_loop_list\" style=\"color: rgb(0, 200, 200);\"><h3>for (list)</h3></a></li>\n",
    "            <li><a href=\"#for_loop_range\" style=\"color: rgb(0, 200, 200);\"><h3>for (range)</h3></a></li>\n",
    "            <li><a href=\"#break_continue\" style=\"color: rgb(0, 200, 200);\"><h3>break / continue</h3></a></li>\n",
    "        </ul>\n",
    "    </li>\n",
    "    <li>\n",
    "        <li><a href=\"#exercise\" style=\"color: rgb(0, 200, 130);\"><h2>Exercise</h2></li>\n",
    "        <ul>\n",
    "            <li><a href=\"#e_1\" style=\"color: rgb(0, 200, 130);\"><h3>E.1: Numbers in 3-step</h3></a></li>\n",
    "            <li><a href=\"#e_2\" style=\"color: rgb(0, 200, 130);\"><h3>E.2: Count number of C</h3></a></li>\n",
    "        </ul>\n",
    "    </li>\n",
    "</ul>"
   ]
  },
  {
   "cell_type": "markdown",
   "metadata": {},
   "source": [
    "<a id=\"#control_structures\"></a>\n",
    "<h1 style=\"color: rgb(200, 200, 0);\">Control structures</h1>\n",
    "<a id=\"#if_statement\"></a>\n",
    "<h2 style=\"color: rgb(200, 200, 0);\">if-statement</h2>\n",
    "An if-statement controls, if a condition is met (the condition is True). If the condition is met, the code in the indented block will run.<br>\n",
    "Python reconizes a block through the indentions, so be careful if you set spaces before a line.<br>\n",
    "An if-statement is build as followed:<br><br>\n",
    "<code>\n",
    "if condition:&emsp;(The \":\" is needed and the code must be indented afterwards)<br>\n",
    "&emsp;pass&emsp;(after an if-statement we must run at least one line of code)<br>\n",
    "pass&emsp;(this code will run after the code in the statement or if the condition is False)<br>\n",
    "</code>\n",
    "<br>\n",
    "code outside of the if-statement (not indented)\n",
    "<br><br>\n",
    "Example:"
   ]
  },
  {
   "cell_type": "code",
   "execution_count": 1,
   "metadata": {},
   "outputs": [
    {
     "name": "stdout",
     "output_type": "stream",
     "text": [
      "7 is smaller than 10\n",
      "The number has increased and is now: 8\n"
     ]
    }
   ],
   "source": [
    "some_number = 7\n",
    "if some_number < 10:    # the condition is that the number is lesser than 10\n",
    "    print(f\"{some_number} is smaller than 10\")\n",
    "    some_number += 1    # the number will increase\n",
    "print(f\"The number has increased and is now: {some_number}\")"
   ]
  },
  {
   "cell_type": "markdown",
   "metadata": {},
   "source": [
    "<a id=\"#else_if_statement\"></a>\n",
    "<h2 style=\"color: rgb(200, 200, 0);\">else if-statement</h2>\n",
    "An Elif-statement is a second condition, <b>if the first one is not met</b>.<br>\n",
    "This section will only be called, when the <b>first condition is not met</b><br>\n",
    "The Syntax is the same as in an normal if-statment, but instead of a normal if we have: <code>elif condition:</code>"
   ]
  },
  {
   "cell_type": "code",
   "execution_count": 2,
   "metadata": {},
   "outputs": [
    {
     "name": "stdout",
     "output_type": "stream",
     "text": [
      "8 is smaller or equal to 8 and we know it's bigger than 5\n",
      "This section is not part of the if-statement from above\n"
     ]
    }
   ],
   "source": [
    "if some_number < 5:             # This condition is not met\n",
    "    print(f\"{some_number} is smaller than 5\")\n",
    "\n",
    "elif some_number <= 8:          # this block is not indented anymore\n",
    "    print(f\"{some_number} is smaller or equal to 8 and we know it's bigger than 5\")\n",
    "\n",
    "elif some_number < 10:          # eventhough this condition is also true, the code will not reach it, since it will exit after the condition above is right\n",
    "    print(f\"{some_number} is smaller thatn 10 and bigger than 8\")\n",
    "\n",
    "# This if statement is independent\n",
    "if some_number < 10:\n",
    "    print(f\"This section is not part of the if-statement from above\")"
   ]
  },
  {
   "cell_type": "markdown",
   "metadata": {},
   "source": [
    "<a id=\"#else_statement\"></a>\n",
    "<h2 style=\"color: rgb(200, 200, 0);\">else-statement</h2>\n",
    "The last statment, is the else-statement. The else statment has no condition. The code instide the else block will be run, if none of the conditions before it is met.<br>\n",
    "<code>else:</code>"
   ]
  },
  {
   "cell_type": "code",
   "execution_count": 3,
   "metadata": {},
   "outputs": [
    {
     "name": "stdout",
     "output_type": "stream",
     "text": [
      "Since it is not smaller than 5 or 7, it must be equal or larger than 7\n"
     ]
    }
   ],
   "source": [
    "if some_number < 5:\n",
    "    print(f\"{some_number} is smaller than 5\")\n",
    "\n",
    "elif some_number < 7:\n",
    "    print(f\"{some_number} is also smaller than 7\")\n",
    "\n",
    "else:\n",
    "    print(f\"Since it is not smaller than 5 or 7, it must be equal or larger than 7\")"
   ]
  },
  {
   "cell_type": "markdown",
   "metadata": {},
   "source": [
    "<a id=\"if_understanding\"></a>\n",
    "<h2 style=\"color: rgb(200, 200, 0);\">Understanding and Usage Exercises</h2>\n",
    "To deepen the understanding of the if-statement, we have to review the things we have done in the previous Notebook \"<a href=\"https://github.com/anvinh01/LearningPython/blob/master/Data_science/01_Basic_Datatypes.ipynb\">01_Basic_Datatypes</a>\". Let's review the sections \"realtion\" and \"Logical\". In relation we learned the operators:\n",
    "<ul>\n",
    "    <li>== : is equal to</li>\n",
    "    <li>!= : is not equal to</li>\n",
    "    <li><  : is smaller than</li>\n",
    "    <li><= : is smaller or equal to</li>\n",
    "    <li>>  : is bigger than</li>\n",
    "    <li>>= : is bigger ot equal to</li>\n",
    "</ul>\n",
    "These operators compare two values with each other and return a boolean (<code>True</code> or <code>False</code>). Assuming we have a value $ a = 10 $ and we want to know if it is higher than $8$. The following code will used to get the relation:"
   ]
  },
  {
   "cell_type": "code",
   "execution_count": 2,
   "metadata": {},
   "outputs": [
    {
     "name": "stdout",
     "output_type": "stream",
     "text": [
      "True\n"
     ]
    }
   ],
   "source": [
    "a = 10             # assignment\n",
    "print(a > 8)       # relation "
   ]
  },
  {
   "cell_type": "markdown",
   "metadata": {},
   "source": [
    "<a id=\"tipp_1\"></a>\n",
    "As you can see we get a Boolean (<code>True</code>) back. Now That we know that we get a Boolean back, we can connect it with another satement, using a logical operator (<code>and</code>, <code> or </code>, <code>not</code>). When we use <code>and</code>, both relations have to be correct. Using <code>or</code> only one correct relation would be enought. <code>not</code> turns a wrong statement into a correct one and also the other way around. Here is an example of such a relation and logical connection:"
   ]
  },
  {
   "cell_type": "code",
   "execution_count": 10,
   "metadata": {},
   "outputs": [
    {
     "name": "stdout",
     "output_type": "stream",
     "text": [
      "first Example (8 < 12) and (10 > 4): True\n",
      "first Example (10 + 12) == 22 or (10 - 12) == -2: True\n"
     ]
    }
   ],
   "source": [
    "ex_1 = (8 < 12) and (10 > 4)                    # both statments have to be true\n",
    "ex_2 = (10 + 12) == 22 or (10 - 12) == -2       # only one of those statements have to be true\n",
    "\n",
    "print(f\"first Example (8 < 12) and (10 > 4): {ex_1}\")\n",
    "print(f\"first Example (10 + 12) == 22 or (10 - 12) == -2: {ex_2}\")"
   ]
  },
  {
   "cell_type": "markdown",
   "metadata": {},
   "source": [
    "<b>1)</b> Try writing an if statement, to check if our number $ a = 10 $ is between 8 and 15 (\"a is higher than 8 and smaller than 15\"). In that case print out: \"a is between 8 and 15\".<br>Use the relation and the logical operators just like in the sentence:"
   ]
  },
  {
   "cell_type": "code",
   "execution_count": 1,
   "metadata": {},
   "outputs": [],
   "source": [
    "# If-statement to check if \"a\" is between 8 and 15\n",
    "# YOUR CODE: ...\n"
   ]
  },
  {
   "cell_type": "markdown",
   "metadata": {},
   "source": [
    "<b>2)</b> Write an if-statement to check if our number \"a\" is equal to 20 or 10. In that case print out: \"a is either 10 or 20\"."
   ]
  },
  {
   "cell_type": "code",
   "execution_count": 2,
   "metadata": {},
   "outputs": [],
   "source": [
    "# If-statement to check if \"a\" is either 20 or 10\n",
    "# YOUR CODE: ...\n"
   ]
  },
  {
   "cell_type": "markdown",
   "metadata": {},
   "source": [
    "An often used operation is the <b>modulo (%)</b> operator. This operator is used to get the <b>rest</b> division. We can calculate, if a certain number (a) is a <b>multiple of</b> another number. In other words, if the number (a) can be divided with the other number.<br>\n",
    "An integer (whole number) can only be divided with another integer, if the <b>Rest is equal to zero</b>:"
   ]
  },
  {
   "cell_type": "code",
   "execution_count": 5,
   "metadata": {},
   "outputs": [
    {
     "name": "stdout",
     "output_type": "stream",
     "text": [
      "The Rest division is: 0\n"
     ]
    }
   ],
   "source": [
    "# we will check if the number_a is a multiple of 5 ===> Meaning that the Rest division (modulo) should be 0\n",
    "number_a = 15\n",
    "print(f\"The Rest division is: {number_a % 5}\")"
   ]
  },
  {
   "cell_type": "markdown",
   "metadata": {},
   "source": [
    "<b>3)</b> With knowledge, your job is now to check if the \"number_b\" is a multiple of 3. The output should be either <code>True</code> or <code>False</code>. Tipp: a similar example has been shown <a href=\"#tipp_1\">above</a>.:"
   ]
  },
  {
   "cell_type": "code",
   "execution_count": 11,
   "metadata": {},
   "outputs": [],
   "source": [
    "# If-statement to check if \"a\" is a multiple of 3\n",
    "number_b = 21\n",
    "# YOUR CODE: ...\n"
   ]
  },
  {
   "cell_type": "markdown",
   "metadata": {},
   "source": [
    "<a id=\"#loops\"></a>\n",
    "<h1 style=\"color: rgb(0, 200, 200);\">Loops</h1>\n",
    "A Loop will repeat the entire time until a condition is met or not met anymore.\n",
    "<a id=\"#while_loop\"></a>\n",
    "<h2 style=\"color: rgb(0, 200, 200);\">while-Loop</h2>\n",
    "In the while-Loop a condition is declared at the beginning. If the condition is met, it will continue the Loop. if it is not met, it will exit.<br>\n",
    "\"while the condition is met, the block will run\"<br>\n",
    "Before creating a while Loop, we have to think about an \"exit condition\". Since the Loop will run the entire time, until the condition is not met anymore, we have to make sure, that the condition will be <code>False</code> eventually.<br>\n",
    "<code>\n",
    "while condition == True:<br>\n",
    "&emsp;code_block\n",
    "</code><br>\n",
    "It is also possible to write: <br>\n",
    "<code>while True:</code>\n",
    "This Loop will run the entire time until we interrupt it, with a command <code>break</code>. This is used connected in an if-statement, with the if-statement being the condition and the <code>break</code> the exit."
   ]
  },
  {
   "cell_type": "code",
   "execution_count": 4,
   "metadata": {},
   "outputs": [
    {
     "name": "stdout",
     "output_type": "stream",
     "text": [
      "our number is increased to: 1\n",
      "our number is increased to: 2\n",
      "our number is increased to: 3\n",
      "our number is increased to: 4\n",
      "our number is increased to: 5\n",
      "We have exited our loop with the number: 5\n"
     ]
    }
   ],
   "source": [
    "some_number = 0\n",
    "while some_number < 5:      # while our number is smaller than 5\n",
    "    some_number += 1        # we will increase the number\n",
    "    print(f\"our number is increased to: {some_number}\")\n",
    "\n",
    "# we are ouside of the block again\n",
    "print(f\"We have exited our loop with the number: {some_number}\")"
   ]
  },
  {
   "cell_type": "markdown",
   "metadata": {},
   "source": [
    "<a id=\"#for_loop_list\"></a>\n",
    "<h2 style=\"color: rgb(0, 200, 200);\">for-Loop (list)</h2>\n",
    "This for-Loop initialize a variable which will take the value of an element in the list.<br>\n",
    "<code>for i in list:<br>\n",
    "&emsp;coder_block</code><br>\n",
    "The variable i will be set equal to the first element of the list, the block will run. <br>Then the variable i will take the second element and run the block again.<br>\n",
    "The number of times, the block will run, is equal to the lenght of the list."
   ]
  },
  {
   "cell_type": "code",
   "execution_count": 7,
   "metadata": {},
   "outputs": [
    {
     "name": "stdout",
     "output_type": "stream",
     "text": [
      "in the 0. run, our variable i takes the number: 2\n",
      "in the 1. run, our variable i takes the number: 4\n",
      "in the 2. run, our variable i takes the number: 6\n",
      "in the 3. run, our variable i takes the number: 8\n",
      "in the 4. run, our variable i takes the number: 10\n",
      "the number of times the block is run, is equal to: 5\n",
      "which is equal to the length of the list: 5\n"
     ]
    }
   ],
   "source": [
    "list_1 = [2, 4, 6, 8, 10]\n",
    "run_number = 0\n",
    "for i in list_1:            # for variable i in the list list_1\n",
    "    print(f\"in the {run_number}. run, our variable i takes the number: {i}\")\n",
    "    run_number += 1         # increast the run_number since the code block has been run 1 time\n",
    "\n",
    "print(f\"the number of times the block is run, is equal to: {run_number}\\nwhich is equal to the length of the list: {len(list_1)}\")"
   ]
  },
  {
   "cell_type": "markdown",
   "metadata": {},
   "source": [
    "The variable doesn't have to be \"i\" but, the fact remains, that the variable will take the value of the list given.\n",
    "\n",
    "<a id=\"#for_loop_range\"></a>\n",
    "<h2 style=\"color: rgb(0, 200, 200);\">for i in range()</h2>\n",
    "<b>range(beginn, end, step)</b> is a function, which creates a \"list\" of elements from the beginning_number to the end_number (end_number is not included). Per default is the step 1, but we can give the step into the input.<br> Let's create a list from 1 to 10: "
   ]
  },
  {
   "cell_type": "code",
   "execution_count": 5,
   "metadata": {},
   "outputs": [
    {
     "name": "stdout",
     "output_type": "stream",
     "text": [
      "The first element is: 1\n",
      "the last element is: 10\n",
      "The datatype is: <class 'range'>\n",
      "This is now a list: [1, 2, 3, 4, 5, 6, 7, 8, 9, 10]\n"
     ]
    }
   ],
   "source": [
    "list_range = range(1, 11)       # don't forget, that the 11 is not included\n",
    "\n",
    "# we can now access the first element and the last element.\n",
    "print(f\"The first element is: {list_range[0]}\\nthe last element is: {list_range[-1]}\")\n",
    "print(f\"The datatype is: {type(list_range)}\")             # as you can see it is not really a list, but a range\n",
    "\n",
    "list_range = list(list_range)       # but we can fully convert it into a list and it will have all properties of an Array\n",
    "print(f\"This is now a list: {list_range}\")               "
   ]
  },
  {
   "cell_type": "markdown",
   "metadata": {},
   "source": [
    "Knowing that means, we can use it to iterate from 1 to a specific number. Example:"
   ]
  },
  {
   "cell_type": "code",
   "execution_count": 6,
   "metadata": {},
   "outputs": [
    {
     "name": "stdout",
     "output_type": "stream",
     "text": [
      "i has the value: 0\n",
      "i has the value: 1\n",
      "i has the value: 2\n",
      "i has the value: 3\n",
      "i has the value: 4\n"
     ]
    }
   ],
   "source": [
    "for i in range(0, 5):\n",
    "    print(f\"i has the value: {i}\")"
   ]
  },
  {
   "cell_type": "markdown",
   "metadata": {},
   "source": [
    "We can use it to go through a list too. We will use the \"i\" as the index number and go from the index 0 to the length of the array. Example:"
   ]
  },
  {
   "cell_type": "code",
   "execution_count": 8,
   "metadata": {},
   "outputs": [
    {
     "name": "stdout",
     "output_type": "stream",
     "text": [
      "The index 0 in our list hast the element: 4\n",
      "The index 1 in our list hast the element: 20\n",
      "The index 2 in our list hast the element: 10\n",
      "The index 3 in our list hast the element: 3\n"
     ]
    }
   ],
   "source": [
    "our_list = [4, 20, 10, 3]                   # our list has the length 4, but the last index is 3\n",
    "for i in range(0, len(our_list)):           # from index 0 to the length of the list\n",
    "    print(f\"The index {i} in our list hast the element: {our_list[i]}\")"
   ]
  },
  {
   "cell_type": "markdown",
   "metadata": {},
   "source": [
    "<a id=\"#break_continue\"></a>\n",
    "<h2 style=\"color: rgb(0, 200, 200);\">Break</h2>\n",
    "We can exit the Loop early, with break."
   ]
  },
  {
   "cell_type": "code",
   "execution_count": 10,
   "metadata": {},
   "outputs": [
    {
     "name": "stdout",
     "output_type": "stream",
     "text": [
      "The first number is: 0\n"
     ]
    }
   ],
   "source": [
    "for i in range(0, 10):\n",
    "    print(f\"The first number is: {i}\")            # print out the first number\n",
    "    break               # and immediatly break afterwards"
   ]
  },
  {
   "cell_type": "markdown",
   "metadata": {},
   "source": [
    "<h1>Note</h1>\n",
    "For people who are new to programming, should know that we can have multiple Loops or if-statements within eachother. Just be aware of the numbers of indents you have.<br>\n",
    "Example of <b>two if-statements</b>:"
   ]
  },
  {
   "cell_type": "code",
   "execution_count": 2,
   "metadata": {},
   "outputs": [
    {
     "name": "stdout",
     "output_type": "stream",
     "text": [
      "6 is a multiple of 2\n",
      "and a multiple of 3\n"
     ]
    }
   ],
   "source": [
    "# Let's check if our number is a multiple of 2 and 3, or just from 2\n",
    "our_number = 6\n",
    "if our_number % 2 == 0:\n",
    "    print(f\"{our_number} is a multiple of 2\")\n",
    "    if our_number % 3 == 0:\n",
    "        print(\"and a multiple of 3\")            # here are two indents\n",
    "    else:\n",
    "        print(\"but not a multiple of 2\")\n",
    "else:\n",
    "    print(f\"{our_number} is not a multiple of 2\")"
   ]
  },
  {
   "cell_type": "markdown",
   "metadata": {},
   "source": [
    "be aware, that we can <b>only</b> check if our_number is a multiple of 3, <b>after</b> we checked if it is a multiple of 2 in the example above.<br>\n",
    "Example of <b>if-statement in for-Loop</b>:"
   ]
  },
  {
   "cell_type": "code",
   "execution_count": 9,
   "metadata": {},
   "outputs": [
    {
     "name": "stdout",
     "output_type": "stream",
     "text": [
      "The number of times a is in Annanas is equal to 3\n"
     ]
    }
   ],
   "source": [
    "# let's count the numbers of a in a word\n",
    "word = \"Annanas\"\n",
    "count = 0\n",
    "for i in range(0, len(word)):\n",
    "    if word[i] == \"a\" or word[i] == \"A\":        # the a and A are different, since Python is case sensetive\n",
    "        count += 1\n",
    "print(f\"The number of times a is in {word} is equal to {count}\")"
   ]
  },
  {
   "cell_type": "markdown",
   "metadata": {},
   "source": [
    "<a id=\"#exercise\"></a>\n",
    "<h1 style=\"color: rgb(0, 200, 130);\">Exercise</h1>\n",
    "Let's do some exercises, you may use any method you want to. Since the solution can be achieved in many ways, you can even try to get the same output in different ways."
   ]
  },
  {
   "cell_type": "markdown",
   "metadata": {},
   "source": [
    "<a id=\"#e_1\"></a>\n",
    "<h2 style=\"color: rgb(0, 200, 130);\">E.1: Numbers in 3-step</h2>\n",
    "We want to have a list (Array), which contains the number from 6 to 90 (90 included), but with a step of 3, meaning: [6, 9, 12, 15, 18, ...., 90]<br>\n",
    "important: the type should be a list not a range."
   ]
  },
  {
   "cell_type": "code",
   "execution_count": 1,
   "metadata": {},
   "outputs": [],
   "source": [
    "# place for your solution\n",
    "# beginning from 6 to 90 (included)\n",
    "\n",
    "# output: [6, 9, 12, 15, 18, ...., 87, 90]\n",
    "# print your list out"
   ]
  },
  {
   "cell_type": "markdown",
   "metadata": {},
   "source": [
    "<a id=\"#e_2\"></a>\n",
    "<h2 style=\"color: rgb(0, 200, 130);\">E.2: Count number of C</h2>\n",
    "count the numbers of the letter \"C\" and \"c\" in the sentence \"Choco Latte is my favorite choice.\" and print the number out."
   ]
  },
  {
   "cell_type": "code",
   "execution_count": 11,
   "metadata": {},
   "outputs": [],
   "source": [
    "# place for your solution\n",
    "# here is the sentence\n",
    "sentence = \"Choco Latte is my favorite choice.\""
   ]
  }
 ],
 "metadata": {
  "interpreter": {
   "hash": "bd216bc2c0a4d891b93e4ba5dba2c1071f5c01076a47a39818a305595ac383b1"
  },
  "kernelspec": {
   "display_name": "Python 3.8.7 64-bit",
   "name": "python3"
  },
  "language_info": {
   "codemirror_mode": {
    "name": "ipython",
    "version": 3
   },
   "file_extension": ".py",
   "mimetype": "text/x-python",
   "name": "python",
   "nbconvert_exporter": "python",
   "pygments_lexer": "ipython3",
   "version": "3.8.7"
  },
  "orig_nbformat": 4
 },
 "nbformat": 4,
 "nbformat_minor": 2
}
