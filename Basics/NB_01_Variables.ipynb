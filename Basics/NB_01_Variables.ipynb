{
 "cells": [
  {
   "source": [
    "# Variables\n",
    "## Assigning Variable\n",
    "\n",
    "assigning a variable by stating the variable name = the_dataype\n",
    "variable_name = data\n",
    "\n",
    "String:\n",
    "a String is list of characters. Also called a text.\n",
    "starts and ends with \"text\""
   ],
   "cell_type": "markdown",
   "metadata": {
    "collapsed": true
   }
  },
  {
   "source": [
    "string = \"this is a string\""
   ],
   "cell_type": "code",
   "metadata": {},
   "execution_count": 5,
   "outputs": []
  },
  {
   "source": [
    "## boolean:\n",
    "a boolean can either be true or false"
   ],
   "cell_type": "markdown",
   "metadata": {}
  },
  {
   "cell_type": "code",
   "execution_count": 7,
   "metadata": {},
   "outputs": [],
   "source": [
    "boolean = True"
   ]
  },
  {
   "source": [
    "## Integer:\n",
    "\n",
    "an integer is a whole number.\n",
    "\n",
    "The maximum value it can project is: 9223372036854775807 which is (2 ** 63) - 1\n",
    "\n",
    "on a 64 bit system"
   ],
   "cell_type": "markdown",
   "metadata": {}
  },
  {
   "cell_type": "code",
   "execution_count": 8,
   "metadata": {},
   "outputs": [],
   "source": [
    "integer = 5"
   ]
  },
  {
   "source": [
    "## Float:\n",
    "\n",
    "A Float is a floating ploint number"
   ],
   "cell_type": "markdown",
   "metadata": {}
  },
  {
   "cell_type": "code",
   "execution_count": 10,
   "metadata": {},
   "outputs": [],
   "source": [
    "float = 5.5"
   ]
  },
  {
   "source": [
    "## Calculating\n",
    "\n",
    "first declare the variables a and b"
   ],
   "cell_type": "markdown",
   "metadata": {}
  },
  {
   "cell_type": "code",
   "execution_count": 11,
   "metadata": {},
   "outputs": [],
   "source": [
    "a = 9\n",
    "b = 3"
   ]
  },
  {
   "source": [
    "We have two integer as starting variable"
   ],
   "cell_type": "markdown",
   "metadata": {}
  },
  {
   "cell_type": "code",
   "execution_count": 14,
   "metadata": {},
   "outputs": [],
   "source": [
    "# plus\n",
    "plus = a + b\n",
    "\n",
    "# minus\n",
    "minus = a - b\n",
    "\n",
    "# multiply\n",
    "mult = a * b\n",
    "\n",
    "# divide into float\n",
    "div_f = a / b\n",
    "\n",
    "# div into int\n",
    "div_int = a // b\n",
    "\n",
    "# modulo\n",
    "mod = a % b"
   ]
  },
  {
   "cell_type": "code",
   "execution_count": 15,
   "metadata": {},
   "outputs": [
    {
     "output_type": "stream",
     "name": "stdout",
     "text": [
      "a : 9, b : 3\n  a+b = 12\n  a-b = 6\n  a*b = 27\n  a/b = 3.0\n  a//b = 3\n  a%b = 0\n"
     ]
    }
   ],
   "source": [
    "# print formated\n",
    "print(f\"a : {a}, b : {b}\\n  a+b = {plus}\\n  a-b = {minus}\\n  a*b = {mult}\\n  a/b = {div_f}\\n  a//b = {div_int}\\n  a%b = {mod}\")\n"
   ]
  },
  {
   "source": [
    "## Special string operatos\n",
    "\n",
    "These are important to print out a formated string"
   ],
   "cell_type": "markdown",
   "metadata": {}
  },
  {
   "cell_type": "code",
   "execution_count": 23,
   "metadata": {},
   "outputs": [
    {
     "output_type": "stream",
     "name": "stdout",
     "text": [
      "string add with string:\n",
      "  this is a stringthis is a string\n",
      "string add woth str(int):\n",
      "  this is a string5\n",
      "string multiply with int:\n",
      " this is a stringthis is a stringthis is a stringthis is a stringthis is a string\n",
      "raw input type is: <class 'str'>\n"
     ]
    },
    {
     "output_type": "error",
     "ename": "ValueError",
     "evalue": "invalid literal for int() with base 10: 'hello'",
     "traceback": [
      "\u001b[1;31m---------------------------------------------------------------------------\u001b[0m",
      "\u001b[1;31mValueError\u001b[0m                                Traceback (most recent call last)",
      "\u001b[1;32m<ipython-input-23-bdddba6ba39a>\u001b[0m in \u001b[0;36m<module>\u001b[1;34m\u001b[0m\n\u001b[0;32m     16\u001b[0m \u001b[1;33m\u001b[0m\u001b[0m\n\u001b[0;32m     17\u001b[0m \u001b[1;31m# convert string into integer\u001b[0m\u001b[1;33m\u001b[0m\u001b[1;33m\u001b[0m\u001b[1;33m\u001b[0m\u001b[0m\n\u001b[1;32m---> 18\u001b[1;33m \u001b[0muser_in_int\u001b[0m \u001b[1;33m=\u001b[0m \u001b[0mint\u001b[0m\u001b[1;33m(\u001b[0m\u001b[0muser_in\u001b[0m\u001b[1;33m)\u001b[0m\u001b[1;33m\u001b[0m\u001b[1;33m\u001b[0m\u001b[0m\n\u001b[0m\u001b[0;32m     19\u001b[0m \u001b[0mprint\u001b[0m\u001b[1;33m(\u001b[0m\u001b[1;34m\"convert input to int():\"\u001b[0m\u001b[1;33m,\u001b[0m \u001b[0mtype\u001b[0m\u001b[1;33m(\u001b[0m\u001b[0muser_in_int\u001b[0m\u001b[1;33m)\u001b[0m\u001b[1;33m)\u001b[0m\u001b[1;33m\u001b[0m\u001b[1;33m\u001b[0m\u001b[0m\n",
      "\u001b[1;31mValueError\u001b[0m: invalid literal for int() with base 10: 'hello'"
     ]
    }
   ],
   "source": [
    "# add string with string\n",
    "string_add = string + string\n",
    "print(\"string add with string:\\n \", string_add)\n",
    "\n",
    "# try to add string with integer\n",
    "string_add_int = string + str(integer)\n",
    "print(\"string add woth str(int):\\n \", string_add_int)\n",
    "\n",
    "# multiplying string with integer\n",
    "string_mul_int = string * integer\n",
    "print(\"string multiply with int:\\n\", string_mul_int)\n",
    "\n",
    "# user input is always a string\n",
    "user_in = input(\"your input: \")\n",
    "print(\"raw input type is:\", type(user_in))\n",
    "\n",
    "# convert string into integer\n",
    "user_in_int = int(user_in)\n",
    "print(\"convert input to int():\", type(user_in_int))"
   ]
  },
  {
   "source": [],
   "cell_type": "markdown",
   "metadata": {}
  }
 ],
 "metadata": {
  "kernelspec": {
   "name": "python387jvsc74a57bd0bd216bc2c0a4d891b93e4ba5dba2c1071f5c01076a47a39818a305595ac383b1",
   "display_name": "Python 3.8.7 64-bit"
  },
  "language_info": {
   "codemirror_mode": {
    "name": "ipython",
    "version": 2
   },
   "file_extension": ".py",
   "mimetype": "text/x-python",
   "name": "python",
   "nbconvert_exporter": "python",
   "pygments_lexer": "ipython2",
   "version": "3.8.7"
  },
  "metadata": {
   "interpreter": {
    "hash": "bd216bc2c0a4d891b93e4ba5dba2c1071f5c01076a47a39818a305595ac383b1"
   }
  }
 },
 "nbformat": 4,
 "nbformat_minor": 0
}