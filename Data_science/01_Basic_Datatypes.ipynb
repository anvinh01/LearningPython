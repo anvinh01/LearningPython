{
 "cells": [
  {
   "cell_type": "markdown",
   "source": [
    "# Basics\r\n",
    "<ul>\r\n",
    "    <li><h2>Installation / Setup</h2></li>\r\n",
    "    <li><h2>First Programm / Notebook</h2></li>\r\n",
    "    <li><h2>Operators</h2></li>\r\n",
    "    <li><h2>Data types</h2></li>\r\n",
    "    <li><h2>Accessing list elements</h2></li>\r\n",
    "    <li><h2>Accessing dictionary elements</h2></li>\r\n",
    "    <li><h2>Built-in functions</h2></li>\r\n",
    "</ul>"
   ],
   "metadata": {}
  },
  {
   "cell_type": "markdown",
   "source": [
    "# installation and Setup\r\n",
    "<ul>\r\n",
    "    <li>\r\n",
    "        <h2>Install Python</h2>\r\n",
    "        First Install [Pyhton](https://www.python.org/downloads/) for your Operating System. This guide is mainly written for Windows.\r\n",
    "    </li>\r\n",
    "    <li>\r\n",
    "        <h2>Install IDE</h2>\r\n",
    "        IDE stands for \"intergrated development enviroment\". An IDE is very helpful for programming, as it provides you with tools for faster development, such as autocompletion.<br>  \r\n",
    "        Personally i recommend [Visual Studio Code](https://code.visualstudio.com/), but you may choose whatever Python IDE you like. Other IDE's:\r\n",
    "        <ul>\r\n",
    "            <li>PyCharm</li>\r\n",
    "            <li>Vim</li>\r\n",
    "            <li>Sublime</li>\r\n",
    "        </ul>\r\n",
    "    </li>\r\n",
    "    <li>\r\n",
    "        <h2>Visual Studio Code Extensions</h2>\r\n",
    "        This step is not necessary, but it would be of great help. As mentioned above, having an IDE provides you with certain \"Tools\". These Tools can be installed on the left sidebar => Extensions.\r\n",
    "        I recommend installing following extensions.\r\n",
    "        <ul>\r\n",
    "            <li>Jupyter</li>\r\n",
    "            <li>Pylance</li>\r\n",
    "            <li>Python</li>\r\n",
    "            <li>Python for VSCode</li>\r\n",
    "        </ul>\r\n",
    "    </li>\r\n",
    "    <li>\r\n",
    "        <h2>Installing Modules (setup pip in PATH)</h2>\r\n",
    "        Open up the Command prompt. Press \"Windows\" and type in cmd. Type in \"pip --version\".<br>\r\n",
    "        If \"pip\" is not found then please follow the next instructions. Else if the version is shown you can skip to \"Installing Modules (pip install)\".<br>\r\n",
    "        Pip is often used to install modules and packages. We have to add the directory of Python and pip to our PATH. If you can work better with a visual explanation, then there is a video [here](https://www.youtube.com/watch?v=dj5oOPaeIqI).\r\n",
    "        Basically you have to:\r\n",
    "        <ul>\r\n",
    "            <li>\r\n",
    "            <h3>Navigate to the directory</h3>\r\n",
    "                <ul>\r\n",
    "                    <li>navigate to you Python directory and then to \"Scripts\"</li>\r\n",
    "                    <li>If you can't find your Python directory, press \"Windows\" and search for \"python 3.x (64-bit)\" and press on \"Open file location\"</li>\r\n",
    "                    <li>Rightclick on that Python file and press on \"Open file location\" again</li>\r\n",
    "                    <li>You should now be in the Python directory. Copy that directory path.</li>\r\n",
    "                    <li>leave the directory open</li>\r\n",
    "                </ul>\r\n",
    "            </li>\r\n",
    "            <li>\r\n",
    "            <h3>Add the directory path to the System variables</h3>\r\n",
    "                <ul>\r\n",
    "                    <li>press \"Windows\" and type in \"Systemvariables\" => Open it</li>\r\n",
    "                    <li>press on \"Enviroment Variables\" on the bottom right</li>\r\n",
    "                    <li>Under \"User varables for ...\" select \"path\" and press on \"Edit\"</li>\r\n",
    "                    <li>Press \"New\" and paste in the directory path you copied.</li>\r\n",
    "                    <li>Press \"OK\"</li>\r\n",
    "                    <li>Under \"System Variables\" select \"path\" again and press \"Edit\"</li>\r\n",
    "                    <li>Press \"New\" and paste in the path again</li>\r\n",
    "                </ul>\r\n",
    "            </li>\r\n",
    "            <li>\r\n",
    "                <h3>repeat with pip</h3>\r\n",
    "                <ul>\r\n",
    "                    <li>in the Python directory navigate into \"/Scripts\"</li>\r\n",
    "                    <li>Copy that Path and repeat the process above in \"Systemvariables\"</li>\r\n",
    "                </ul>\r\n",
    "            </li>\r\n",
    "        </ul>\r\n",
    "        To test if it worked, we open the Command Prompt (cmd) again and type in \"pip --version\". It should display the version now, if not then feel free to conatact me\r\n",
    "    </li>\r\n",
    "    <li>\r\n",
    "        <h2>Installing Modules (pip install)</h2>\r\n",
    "        Now that our pip is working we can install some modules.\r\n",
    "        Type into the Command Promt the following instructions:\r\n",
    "        <ul>\r\n",
    "            <li>pip install numpy</li>\r\n",
    "            <li>python -m pip install -U matplotlib</li>\r\n",
    "            <li>pip install pandas</li>\r\n",
    "            <li>pip install jupyterlab</li>\r\n",
    "        </ul>\r\n",
    "    </li>\r\n",
    "</ul>\r\n",
    "This should conclude the installation and the setup for the future.'"
   ],
   "metadata": {}
  },
  {
   "cell_type": "markdown",
   "source": [
    "<h1>First Programm / Notebook</h1>\r\n",
    "Let's create our first python programm. First create a Folder, which should contain our files. Now open the folder in Visual Studio Code (File => Open Folder). Create a new File and save it as a Python (.py) file. Type in following:"
   ],
   "metadata": {}
  },
  {
   "cell_type": "code",
   "execution_count": 1,
   "source": [
    "print(\"Hello World!\")"
   ],
   "outputs": [
    {
     "output_type": "stream",
     "name": "stdout",
     "text": [
      "Hello World!\n"
     ]
    }
   ],
   "metadata": {}
  },
  {
   "cell_type": "markdown",
   "source": [
    "And press on the \"play\" button on the top right.\r\n",
    "If it's working, then you have successfully created your first programm."
   ],
   "metadata": {}
  },
  {
   "cell_type": "markdown",
   "source": [],
   "metadata": {}
  }
 ],
 "metadata": {
  "orig_nbformat": 4,
  "language_info": {
   "name": "python",
   "version": "3.8.7",
   "mimetype": "text/x-python",
   "codemirror_mode": {
    "name": "ipython",
    "version": 3
   },
   "pygments_lexer": "ipython3",
   "nbconvert_exporter": "python",
   "file_extension": ".py"
  },
  "kernelspec": {
   "name": "python3",
   "display_name": "Python 3.8.7 64-bit"
  },
  "interpreter": {
   "hash": "bd216bc2c0a4d891b93e4ba5dba2c1071f5c01076a47a39818a305595ac383b1"
  }
 },
 "nbformat": 4,
 "nbformat_minor": 2
}